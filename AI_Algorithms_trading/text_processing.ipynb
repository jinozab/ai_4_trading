{
 "cells": [
  {
   "cell_type": "markdown",
   "metadata": {},
   "source": [
    "# Text Processing\n",
    "\n",
    "## Capturing Text Data\n",
    "\n",
    "### Plain Text"
   ]
  },
  {
   "cell_type": "code",
   "execution_count": 18,
   "metadata": {},
   "outputs": [
    {
     "name": "stdout",
     "output_type": "stream",
     "text": [
      "Hieroglyphic writing dates from c. 3000 BC, and is composed of hundreds of symbols. A hieroglyph can represent a word, a sound, or a silent determinative; and the same symbol can serve different purposes in different contexts. Hieroglyphs were a formal script, used on stone monuments and in tombs, that could be as detailed as individual works of art.\n",
      "\n"
     ]
    }
   ],
   "source": [
    "import os\n",
    "\n",
    "# Read in a plain text file\n",
    "with open(os.path.join(\"data\", \"hieroglyph.txt\"), \"r\") as f:\n",
    "    text = f.read()\n",
    "    print(text)"
   ]
  },
  {
   "cell_type": "markdown",
   "metadata": {},
   "source": [
    "### Tabular Data"
   ]
  },
  {
   "cell_type": "code",
   "execution_count": 19,
   "metadata": {
    "scrolled": true
   },
   "outputs": [
    {
     "data": {
      "text/html": [
       "<div>\n",
       "<style scoped>\n",
       "    .dataframe tbody tr th:only-of-type {\n",
       "        vertical-align: middle;\n",
       "    }\n",
       "\n",
       "    .dataframe tbody tr th {\n",
       "        vertical-align: top;\n",
       "    }\n",
       "\n",
       "    .dataframe thead th {\n",
       "        text-align: right;\n",
       "    }\n",
       "</style>\n",
       "<table border=\"1\" class=\"dataframe\">\n",
       "  <thead>\n",
       "    <tr style=\"text-align: right;\">\n",
       "      <th></th>\n",
       "      <th>publisher</th>\n",
       "      <th>title</th>\n",
       "    </tr>\n",
       "  </thead>\n",
       "  <tbody>\n",
       "    <tr>\n",
       "      <th>0</th>\n",
       "      <td>Livemint</td>\n",
       "      <td>fed's charles plosser sees high bar for change...</td>\n",
       "    </tr>\n",
       "    <tr>\n",
       "      <th>1</th>\n",
       "      <td>IFA Magazine</td>\n",
       "      <td>us open: stocks fall after fed official hints ...</td>\n",
       "    </tr>\n",
       "    <tr>\n",
       "      <th>2</th>\n",
       "      <td>IFA Magazine</td>\n",
       "      <td>fed risks falling 'behind the curve', charles ...</td>\n",
       "    </tr>\n",
       "    <tr>\n",
       "      <th>3</th>\n",
       "      <td>Moneynews</td>\n",
       "      <td>fed's plosser: nasty weather has curbed job gr...</td>\n",
       "    </tr>\n",
       "    <tr>\n",
       "      <th>4</th>\n",
       "      <td>NASDAQ</td>\n",
       "      <td>plosser: fed may have to accelerate tapering pace</td>\n",
       "    </tr>\n",
       "  </tbody>\n",
       "</table>\n",
       "</div>"
      ],
      "text/plain": [
       "      publisher                                              title\n",
       "0      Livemint  fed's charles plosser sees high bar for change...\n",
       "1  IFA Magazine  us open: stocks fall after fed official hints ...\n",
       "2  IFA Magazine  fed risks falling 'behind the curve', charles ...\n",
       "3     Moneynews  fed's plosser: nasty weather has curbed job gr...\n",
       "4        NASDAQ  plosser: fed may have to accelerate tapering pace"
      ]
     },
     "execution_count": 19,
     "metadata": {},
     "output_type": "execute_result"
    }
   ],
   "source": [
    "import pandas as pd\n",
    "\n",
    "# Extract text column from a dataframe\n",
    "df = pd.read_csv(os.path.join(\"data\", \"news.csv\"))\n",
    "df.head()[['publisher', 'title']]\n",
    "\n",
    "# Convert text column to lowercase\n",
    "df['title'] = df['title'].str.lower()\n",
    "df.head()[['publisher', 'title']]"
   ]
  },
  {
   "cell_type": "markdown",
   "metadata": {},
   "source": [
    "### Online Resource"
   ]
  },
  {
   "cell_type": "code",
   "execution_count": 20,
   "metadata": {
    "scrolled": true
   },
   "outputs": [
    {
     "name": "stdout",
     "output_type": "stream",
     "text": [
      "{\n",
      "    \"success\": {\n",
      "        \"total\": 1\n",
      "    },\n",
      "    \"contents\": {\n",
      "        \"quotes\": [\n",
      "            {\n",
      "                \"quote\": \"The journey of a thousand miles begins with one step.\",\n",
      "                \"length\": \"53\",\n",
      "                \"author\": \"Lao Tzu\",\n",
      "                \"tags\": [\n",
      "                    \"inspire\",\n",
      "                    \"journey\",\n",
      "                    \"starting\"\n",
      "                ],\n",
      "                \"category\": \"inspire\",\n",
      "                \"language\": \"en\",\n",
      "                \"date\": \"2023-01-11\",\n",
      "                \"permalink\": \"https://theysaidso.com/quote/lao-tzu-the-journey-of-a-thousand-miles-begins-with-one-step\",\n",
      "                \"id\": \"pgZsW9PG_v2_KPBuD58o_QeF\",\n",
      "                \"background\": \"https://theysaidso.com/img/qod/qod-inspire.jpg\",\n",
      "                \"title\": \"Inspiring Quote of the day\"\n",
      "            }\n",
      "        ]\n",
      "    },\n",
      "    \"baseurl\": \"https://theysaidso.com\",\n",
      "    \"copyright\": {\n",
      "        \"year\": 2025,\n",
      "        \"url\": \"https://theysaidso.com\"\n",
      "    }\n",
      "}\n",
      "The journey of a thousand miles begins with one step. \n",
      "-- Lao Tzu\n"
     ]
    }
   ],
   "source": [
    "import requests\n",
    "import json\n",
    "\n",
    "# Fetch data from a REST API\n",
    "r = requests.get(\n",
    "    \"https://quotes.rest/qod.json\")\n",
    "res = r.json()\n",
    "print(json.dumps(res, indent=4))\n",
    "\n",
    "# Extract relevant object and field\n",
    "q = res[\"contents\"][\"quotes\"][0]\n",
    "print(q[\"quote\"], \"\\n--\", q[\"author\"])"
   ]
  },
  {
   "cell_type": "markdown",
   "metadata": {},
   "source": [
    "## Cleaning"
   ]
  },
  {
   "cell_type": "code",
   "execution_count": 21,
   "metadata": {
    "scrolled": true
   },
   "outputs": [
    {
     "name": "stdout",
     "output_type": "stream",
     "text": [
      "<html lang=\"en\" op=\"news\"><head><meta name=\"referrer\" content=\"origin\"><meta name=\"viewport\" content=\"width=device-width, initial-scale=1.0\"><link rel=\"stylesheet\" type=\"text/css\" href=\"news.css?QksU6TPe1jTZcj4weVQN\">\n",
      "        <link rel=\"shortcut icon\" href=\"favicon.ico\">\n",
      "          <link rel=\"alternate\" type=\"application/rss+xml\" title=\"RSS\" href=\"rss\">\n",
      "        <title>Hacker News</title></head><body><center><table id=\"hnmain\" border=\"0\" cellpadding=\"0\" cellspacing=\"0\" width=\"85%\" bgcolor=\"#f6f6ef\">\n",
      "        <tr><td bgcolor=\"#ff6600\"><table border=\"0\" cellpadding=\"0\" cellspacing=\"0\" width=\"100%\" style=\"padding:2px\"><tr><td style=\"width:18px;padding-right:4px\"><a href=\"https://news.ycombinator.com\"><img src=\"y18.gif\" width=\"18\" height=\"18\" style=\"border:1px white solid;\"></a></td>\n",
      "                  <td style=\"line-height:12pt; height:10px;\"><span class=\"pagetop\"><b class=\"hnname\"><a href=\"news\">Hacker News</a></b>\n",
      "                            <a href=\"newest\">new</a> | <a href=\"front\">past</a> | <a href=\"newcomments\">comments</a> | <a href=\"ask\">ask</a> | <a href=\"show\">show</a> | <a href=\"jobs\">jobs</a> | <a href=\"submit\">submit</a>            </span></td><td style=\"text-align:right;padding-right:4px;\"><span class=\"pagetop\">\n",
      "                              <a href=\"login?goto=news\">login</a>\n",
      "                          </span></td>\n",
      "              </tr></table></td></tr>\n",
      "<tr id=\"pagespace\" title=\"\" style=\"height:10px\"></tr><tr><td><table border=\"0\" cellpadding=\"0\" cellspacing=\"0\">\n",
      "            <tr class='athing' id='34315782'>\n",
      "      <td align=\"right\" valign=\"top\" class=\"title\"><span class=\"rank\">1.</span></td>      <td valign=\"top\" class=\"votelinks\"><center><a id='up_34315782'href='vote?id=34315782&amp;how=up&amp;goto=news'><div class='votearrow' title='upvote'></div></a></center></td><td class=\"title\"><span class=\"titleline\"><a href=\"https://findthatmeme.com/blog/2023/01/08/image-stacks-and-iphone-racks-building-an-internet-scale-meme-search-engine-Qzrz7V6T.html\">Building an Internet Scale Meme Search Engine</a><span class=\"sitebit comhead\"> (<a href=\"from?site=findthatmeme.com\"><span class=\"sitestr\">findthatmeme.com</span></a>)</span></span></td></tr><tr><td colspan=\"2\"></td><td class=\"subtext\"><span class=\"subline\">\n",
      "          <span class=\"score\" id=\"score_34315782\">236 points</span> by <a href=\"user?id=whoisburbansky\" class=\"hnuser\">whoisburbansky</a> <span class=\"age\" title=\"2023-01-09T20:46:43\"><a href=\"item?id=34315782\">3 hours ago</a></span> <span id=\"unv_34315782\"></span> | <a href=\"hide?id=34315782&amp;goto=news\">hide</a> | <a href=\"item?id=34315782\">52&nbsp;comments</a>        </span>\n",
      "              </td></tr>\n",
      "      <tr class=\"spacer\" style=\"height:5px\"></tr>\n",
      "                <tr class='athing' id='34335937'>\n",
      "      <td align=\"right\" valign=\"top\" class=\"title\"><span class=\"rank\">2.</span></td>      <td valign=\"top\" class=\"votelinks\"><center><a id='up_34335937'href='vote?id=34335937&amp;how=up&amp;goto=news'><div class='votearrow' title='upvote'></div></a></center></td><td class=\"title\"><span class=\"titleline\"><a href=\"https://www.vqronline.org/essay/john-hughes-goes-deep-unexpected-heaviosity-ferris-bueller%E2%80%99s-day\">The Unexpected Heaviosity of Ferris Bueller’s Day Off (2006)</a><span class=\"sitebit comhead\"> (<a href=\"from?site=vqronline.org\"><span class=\"sitestr\">vqronline.org</span></a>)</span></span></td></tr><tr><td colspan=\"2\"></td><td class=\"subtext\"><span class=\"subline\">\n",
      "          <span class=\"score\" id=\"score_34335937\">42 points</span> by <a href=\"user?id=hyperific\" class=\"hnuser\">hyperific</a> <span class=\"age\" title=\"2023-01-11T07:14:23\"><a href=\"item?id=34335937\">1 hour ago</a></span> <span id=\"unv_34335937\"></span> | <a href=\"hide?id=34335937&amp;goto=news\">hide</a> | <a href=\"item?id=34335937\">19&nbsp;comments</a>        </span>\n",
      "              </td></tr>\n",
      "      <tr class=\"spacer\" style=\"height:5px\"></tr>\n",
      "                <tr class='athing' id='34329988'>\n",
      "      <td align=\"right\" valign=\"top\" class=\"title\"><span class=\"rank\">3.</span></td>      <td valign=\"top\" class=\"votelinks\"><center><a id='up_34329988'href='vote?id=34329988&amp;how=up&amp;goto=news'><div class='votearrow' title='upvote'></div></a></center></td><td class=\"title\"><span class=\"titleline\"><a href=\"https://pirateweather.net/\">Pirate Weather: A free, open, and documented forecast API</a><span class=\"sitebit comhead\"> (<a href=\"from?site=pirateweather.net\"><span class=\"sitestr\">pirateweather.net</span></a>)</span></span></td></tr><tr><td colspan=\"2\"></td><td class=\"subtext\"><span class=\"subline\">\n",
      "          <span class=\"score\" id=\"score_34329988\">894 points</span> by <a href=\"user?id=calebegg\" class=\"hnuser\">calebegg</a> <span class=\"age\" title=\"2023-01-10T19:15:31\"><a href=\"item?id=34329988\">14 hours ago</a></span> <span id=\"unv_34329988\"></span> | <a href=\"hide?id=34329988&amp;goto=news\">hide</a> | <a href=\"item?id=34329988\">159&nbsp;comments</a>        </span>\n",
      "              </td></tr>\n",
      "      <tr class=\"spacer\" style=\"height:5px\"></tr>\n",
      "                <tr class='athing' id='34333638'>\n",
      "      <td align=\"right\" valign=\"top\" class=\"title\"><span class=\"rank\">4.</span></td>      <td valign=\"top\" class=\"votelinks\"><center><a id='up_34333638'href='vote?id=34333638&amp;how=up&amp;goto=news'><div class='votearrow' title='upvote'></div></a></center></td><td class=\"title\"><span class=\"titleline\"><a href=\"https://lateblt.tripod.com/bit68.txt\">What happens when a CPU starts</a><span class=\"sitebit comhead\"> (<a href=\"from?site=tripod.com\"><span class=\"sitestr\">tripod.com</span></a>)</span></span></td></tr><tr><td colspan=\"2\"></td><td class=\"subtext\"><span class=\"subline\">\n",
      "          <span class=\"score\" id=\"score_34333638\">303 points</span> by <a href=\"user?id=nowandlater\" class=\"hnuser\">nowandlater</a> <span class=\"age\" title=\"2023-01-11T01:00:28\"><a href=\"item?id=34333638\">8 hours ago</a></span> <span id=\"unv_34333638\"></span> | <a href=\"hide?id=34333638&amp;goto=news\">hide</a> | <a href=\"item?id=34333638\">82&nbsp;comments</a>        </span>\n",
      "              </td></tr>\n",
      "      <tr class=\"spacer\" style=\"height:5px\"></tr>\n",
      "                <tr class='athing' id='34321135'>\n",
      "      <td align=\"right\" valign=\"top\" class=\"title\"><span class=\"rank\">5.</span></td>      <td valign=\"top\" class=\"votelinks\"><center><a id='up_34321135'href='vote?id=34321135&amp;how=up&amp;goto=news'><div class='votearrow' title='upvote'></div></a></center></td><td class=\"title\"><span class=\"titleline\"><a href=\"https://networkx.org/documentation/stable/release/release_3.0.html\">NetworkX 3.0 - create, manipulate, and study complex networks in Python</a><span class=\"sitebit comhead\"> (<a href=\"from?site=networkx.org\"><span class=\"sitestr\">networkx.org</span></a>)</span></span></td></tr><tr><td colspan=\"2\"></td><td class=\"subtext\"><span class=\"subline\">\n",
      "          <span class=\"score\" id=\"score_34321135\">89 points</span> by <a href=\"user?id=anigbrowl\" class=\"hnuser\">anigbrowl</a> <span class=\"age\" title=\"2023-01-10T06:11:08\"><a href=\"item?id=34321135\">5 hours ago</a></span> <span id=\"unv_34321135\"></span> | <a href=\"hide?id=34321135&amp;goto=news\">hide</a> | <a href=\"item?id=34321135\">20&nbsp;comments</a>        </span>\n",
      "              </td></tr>\n",
      "      <tr class=\"spacer\" style=\"height:5px\"></tr>\n",
      "                <tr class='athing' id='34320892'>\n",
      "      <td align=\"right\" valign=\"top\" class=\"title\"><span class=\"rank\">6.</span></td>      <td valign=\"top\" class=\"votelinks\"><center><a id='up_34320892'href='vote?id=34320892&amp;how=up&amp;goto=news'><div class='votearrow' title='upvote'></div></a></center></td><td class=\"title\"><span class=\"titleline\"><a href=\"https://www.allaboutcircuits.com/textbook/\">Lessons in Electric Circuits</a><span class=\"sitebit comhead\"> (<a href=\"from?site=allaboutcircuits.com\"><span class=\"sitestr\">allaboutcircuits.com</span></a>)</span></span></td></tr><tr><td colspan=\"2\"></td><td class=\"subtext\"><span class=\"subline\">\n",
      "          <span class=\"score\" id=\"score_34320892\">124 points</span> by <a href=\"user?id=lobo_tuerto\" class=\"hnuser\">lobo_tuerto</a> <span class=\"age\" title=\"2023-01-10T05:28:56\"><a href=\"item?id=34320892\">6 hours ago</a></span> <span id=\"unv_34320892\"></span> | <a href=\"hide?id=34320892&amp;goto=news\">hide</a> | <a href=\"item?id=34320892\">9&nbsp;comments</a>        </span>\n",
      "              </td></tr>\n",
      "      <tr class=\"spacer\" style=\"height:5px\"></tr>\n",
      "                <tr class='athing' id='34336396'>\n",
      "      <td align=\"right\" valign=\"top\" class=\"title\"><span class=\"rank\">7.</span></td>      <td valign=\"top\" class=\"votelinks\"><center><a id='up_34336396'href='vote?id=34336396&amp;how=up&amp;goto=news'><div class='votearrow' title='upvote'></div></a></center></td><td class=\"title\"><span class=\"titleline\"><a href=\"https://www.stephenlewis.me/blog/naming-phoenix-context-functions\">Naming Elixir Phoenix context functions</a><span class=\"sitebit comhead\"> (<a href=\"from?site=stephenlewis.me\"><span class=\"sitestr\">stephenlewis.me</span></a>)</span></span></td></tr><tr><td colspan=\"2\"></td><td class=\"subtext\"><span class=\"subline\">\n",
      "          <span class=\"score\" id=\"score_34336396\">10 points</span> by <a href=\"user?id=amalinovic\" class=\"hnuser\">amalinovic</a> <span class=\"age\" title=\"2023-01-11T08:36:27\"><a href=\"item?id=34336396\">58 minutes ago</a></span> <span id=\"unv_34336396\"></span> | <a href=\"hide?id=34336396&amp;goto=news\">hide</a> | <a href=\"item?id=34336396\">discuss</a>        </span>\n",
      "              </td></tr>\n",
      "      <tr class=\"spacer\" style=\"height:5px\"></tr>\n",
      "                <tr class='athing' id='34307552'>\n",
      "      <td align=\"right\" valign=\"top\" class=\"title\"><span class=\"rank\">8.</span></td>      <td valign=\"top\" class=\"votelinks\"><center><a id='up_34307552'href='vote?id=34307552&amp;how=up&amp;goto=news'><div class='votearrow' title='upvote'></div></a></center></td><td class=\"title\"><span class=\"titleline\"><a href=\"https://renato.athaydes.com/posts/unison-revolution.html\">A look at Unison: a revolutionary programming language</a><span class=\"sitebit comhead\"> (<a href=\"from?site=athaydes.com\"><span class=\"sitestr\">athaydes.com</span></a>)</span></span></td></tr><tr><td colspan=\"2\"></td><td class=\"subtext\"><span class=\"subline\">\n",
      "          <span class=\"score\" id=\"score_34307552\">157 points</span> by <a href=\"user?id=lycopodiopsida\" class=\"hnuser\">lycopodiopsida</a> <span class=\"age\" title=\"2023-01-09T06:49:09\"><a href=\"item?id=34307552\">8 hours ago</a></span> <span id=\"unv_34307552\"></span> | <a href=\"hide?id=34307552&amp;goto=news\">hide</a> | <a href=\"item?id=34307552\">42&nbsp;comments</a>        </span>\n",
      "              </td></tr>\n",
      "      <tr class=\"spacer\" style=\"height:5px\"></tr>\n",
      "                <tr class='athing' id='34335269'>\n",
      "      <td align=\"right\" valign=\"top\" class=\"title\"><span class=\"rank\">9.</span></td>      <td valign=\"top\" class=\"votelinks\"><center><a id='up_34335269'href='vote?id=34335269&amp;how=up&amp;goto=news'><div class='votearrow' title='upvote'></div></a></center></td><td class=\"title\"><span class=\"titleline\"><a href=\"https://zapier.com/blog/secondments-at-zapier/\">Secondments at Zapier</a><span class=\"sitebit comhead\"> (<a href=\"from?site=zapier.com\"><span class=\"sitestr\">zapier.com</span></a>)</span></span></td></tr><tr><td colspan=\"2\"></td><td class=\"subtext\"><span class=\"subline\">\n",
      "          <span class=\"score\" id=\"score_34335269\">37 points</span> by <a href=\"user?id=theresistor\" class=\"hnuser\">theresistor</a> <span class=\"age\" title=\"2023-01-11T05:20:18\"><a href=\"item?id=34335269\">4 hours ago</a></span> <span id=\"unv_34335269\"></span> | <a href=\"hide?id=34335269&amp;goto=news\">hide</a> | <a href=\"item?id=34335269\">23&nbsp;comments</a>        </span>\n",
      "              </td></tr>\n",
      "      <tr class=\"spacer\" style=\"height:5px\"></tr>\n",
      "                <tr class='athing' id='34310035'>\n",
      "      <td align=\"right\" valign=\"top\" class=\"title\"><span class=\"rank\">10.</span></td>      <td valign=\"top\" class=\"votelinks\"><center><a id='up_34310035'href='vote?id=34310035&amp;how=up&amp;goto=news'><div class='votearrow' title='upvote'></div></a></center></td><td class=\"title\"><span class=\"titleline\"><a href=\"https://neilmadden.blog/2023/01/09/on-pbkdf2-iterations/\">On PBKDF2 iterations</a><span class=\"sitebit comhead\"> (<a href=\"from?site=neilmadden.blog\"><span class=\"sitestr\">neilmadden.blog</span></a>)</span></span></td></tr><tr><td colspan=\"2\"></td><td class=\"subtext\"><span class=\"subline\">\n",
      "          <span class=\"score\" id=\"score_34310035\">21 points</span> by <a href=\"user?id=rainworld\" class=\"hnuser\">rainworld</a> <span class=\"age\" title=\"2023-01-09T13:26:58\"><a href=\"item?id=34310035\">2 hours ago</a></span> <span id=\"unv_34310035\"></span> | <a href=\"hide?id=34310035&amp;goto=news\">hide</a> | <a href=\"item?id=34310035\">5&nbsp;comments</a>        </span>\n",
      "              </td></tr>\n",
      "      <tr class=\"spacer\" style=\"height:5px\"></tr>\n",
      "                <tr class='athing' id='34335873'>\n",
      "      <td align=\"right\" valign=\"top\" class=\"title\"><span class=\"rank\">11.</span></td>      <td><img src=\"s.gif\" height=\"1\" width=\"14\"></td>       <td class=\"title\"><span class=\"titleline\"><a href=\"https://www.ycombinator.com/companies/actiondesk/jobs/LggjAvL-product-designer-4-6-months-contract\" rel=\"nofollow\">Actiondesk (YC S19) Is Hiring a Product Designer (4-6 months contract)</a><span class=\"sitebit comhead\"> (<a href=\"from?site=ycombinator.com\"><span class=\"sitestr\">ycombinator.com</span></a>)</span></span></td></tr><tr><td colspan=\"2\"></td><td class=\"subtext\">\n",
      "        <span class=\"age\" title=\"2023-01-11T07:00:19\"><a href=\"item?id=34335873\">2 hours ago</a></span> | <a href=\"hide?id=34335873&amp;goto=news\">hide</a>      </td></tr>\n",
      "      <tr class=\"spacer\" style=\"height:5px\"></tr>\n",
      "                <tr class='athing' id='34332820'>\n",
      "      <td align=\"right\" valign=\"top\" class=\"title\"><span class=\"rank\">12.</span></td>      <td valign=\"top\" class=\"votelinks\"><center><a id='up_34332820'href='vote?id=34332820&amp;how=up&amp;goto=news'><div class='votearrow' title='upvote'></div></a></center></td><td class=\"title\"><span class=\"titleline\"><a href=\"https://www.sapiens.org/culture/lebanon-solar-power/\">In Lebanon, solar power is booming</a><span class=\"sitebit comhead\"> (<a href=\"from?site=sapiens.org\"><span class=\"sitestr\">sapiens.org</span></a>)</span></span></td></tr><tr><td colspan=\"2\"></td><td class=\"subtext\"><span class=\"subline\">\n",
      "          <span class=\"score\" id=\"score_34332820\">159 points</span> by <a href=\"user?id=miohtama\" class=\"hnuser\">miohtama</a> <span class=\"age\" title=\"2023-01-10T23:13:04\"><a href=\"item?id=34332820\">10 hours ago</a></span> <span id=\"unv_34332820\"></span> | <a href=\"hide?id=34332820&amp;goto=news\">hide</a> | <a href=\"item?id=34332820\">60&nbsp;comments</a>        </span>\n",
      "              </td></tr>\n",
      "      <tr class=\"spacer\" style=\"height:5px\"></tr>\n",
      "                <tr class='athing' id='34336386'>\n",
      "      <td align=\"right\" valign=\"top\" class=\"title\"><span class=\"rank\">13.</span></td>      <td valign=\"top\" class=\"votelinks\"><center><a id='up_34336386'href='vote?id=34336386&amp;how=up&amp;goto=news'><div class='votearrow' title='upvote'></div></a></center></td><td class=\"title\"><span class=\"titleline\"><a href=\"https://github.com/karpathy/nanoGPT\">NanoGPT</a><span class=\"sitebit comhead\"> (<a href=\"from?site=github.com/karpathy\"><span class=\"sitestr\">github.com/karpathy</span></a>)</span></span></td></tr><tr><td colspan=\"2\"></td><td class=\"subtext\"><span class=\"subline\">\n",
      "          <span class=\"score\" id=\"score_34336386\">7 points</span> by <a href=\"user?id=trekhleb\" class=\"hnuser\">trekhleb</a> <span class=\"age\" title=\"2023-01-11T08:34:25\"><a href=\"item?id=34336386\">1 hour ago</a></span> <span id=\"unv_34336386\"></span> | <a href=\"hide?id=34336386&amp;goto=news\">hide</a> | <a href=\"item?id=34336386\">discuss</a>        </span>\n",
      "              </td></tr>\n",
      "      <tr class=\"spacer\" style=\"height:5px\"></tr>\n",
      "                <tr class='athing' id='34309530'>\n",
      "      <td align=\"right\" valign=\"top\" class=\"title\"><span class=\"rank\">14.</span></td>      <td valign=\"top\" class=\"votelinks\"><center><a id='up_34309530'href='vote?id=34309530&amp;how=up&amp;goto=news'><div class='votearrow' title='upvote'></div></a></center></td><td class=\"title\"><span class=\"titleline\"><a href=\"https://hynek.me/articles/macos-dyld-env/\">Surprising Consequences of macOS’s Environment Variable Sanitization</a><span class=\"sitebit comhead\"> (<a href=\"from?site=hynek.me\"><span class=\"sitestr\">hynek.me</span></a>)</span></span></td></tr><tr><td colspan=\"2\"></td><td class=\"subtext\"><span class=\"subline\">\n",
      "          <span class=\"score\" id=\"score_34309530\">34 points</span> by <a href=\"user?id=ash\" class=\"hnuser\">ash</a> <span class=\"age\" title=\"2023-01-09T12:22:13\"><a href=\"item?id=34309530\">3 hours ago</a></span> <span id=\"unv_34309530\"></span> | <a href=\"hide?id=34309530&amp;goto=news\">hide</a> | <a href=\"item?id=34309530\">9&nbsp;comments</a>        </span>\n",
      "              </td></tr>\n",
      "      <tr class=\"spacer\" style=\"height:5px\"></tr>\n",
      "                <tr class='athing' id='34333176'>\n",
      "      <td align=\"right\" valign=\"top\" class=\"title\"><span class=\"rank\">15.</span></td>      <td valign=\"top\" class=\"votelinks\"><center><a id='up_34333176'href='vote?id=34333176&amp;how=up&amp;goto=news'><div class='votearrow' title='upvote'></div></a></center></td><td class=\"title\"><span class=\"titleline\"><a href=\"https://usbc.wtf/\">Usbc.wtf – an article and quiz to find the right USB-C cable</a><span class=\"sitebit comhead\"> (<a href=\"from?site=usbc.wtf\"><span class=\"sitestr\">usbc.wtf</span></a>)</span></span></td></tr><tr><td colspan=\"2\"></td><td class=\"subtext\"><span class=\"subline\">\n",
      "          <span class=\"score\" id=\"score_34333176\">147 points</span> by <a href=\"user?id=ryanhn\" class=\"hnuser\">ryanhn</a> <span class=\"age\" title=\"2023-01-10T23:55:02\"><a href=\"item?id=34333176\">9 hours ago</a></span> <span id=\"unv_34333176\"></span> | <a href=\"hide?id=34333176&amp;goto=news\">hide</a> | <a href=\"item?id=34333176\">62&nbsp;comments</a>        </span>\n",
      "              </td></tr>\n",
      "      <tr class=\"spacer\" style=\"height:5px\"></tr>\n",
      "                <tr class='athing' id='34332114'>\n",
      "      <td align=\"right\" valign=\"top\" class=\"title\"><span class=\"rank\">16.</span></td>      <td valign=\"top\" class=\"votelinks\"><center><a id='up_34332114'href='vote?id=34332114&amp;how=up&amp;goto=news'><div class='votearrow' title='upvote'></div></a></center></td><td class=\"title\"><span class=\"titleline\"><a href=\"https://neeva.com/blog/introducing-neevaai\">NeevaAI</a><span class=\"sitebit comhead\"> (<a href=\"from?site=neeva.com\"><span class=\"sitestr\">neeva.com</span></a>)</span></span></td></tr><tr><td colspan=\"2\"></td><td class=\"subtext\"><span class=\"subline\">\n",
      "          <span class=\"score\" id=\"score_34332114\">229 points</span> by <a href=\"user?id=corentin88\" class=\"hnuser\">corentin88</a> <span class=\"age\" title=\"2023-01-10T21:55:01\"><a href=\"item?id=34332114\">11 hours ago</a></span> <span id=\"unv_34332114\"></span> | <a href=\"hide?id=34332114&amp;goto=news\">hide</a> | <a href=\"item?id=34332114\">114&nbsp;comments</a>        </span>\n",
      "              </td></tr>\n",
      "      <tr class=\"spacer\" style=\"height:5px\"></tr>\n",
      "                <tr class='athing' id='34320840'>\n",
      "      <td align=\"right\" valign=\"top\" class=\"title\"><span class=\"rank\">17.</span></td>      <td valign=\"top\" class=\"votelinks\"><center><a id='up_34320840'href='vote?id=34320840&amp;how=up&amp;goto=news'><div class='votearrow' title='upvote'></div></a></center></td><td class=\"title\"><span class=\"titleline\"><a href=\"https://arxiv.org/abs/2301.02432\">Myths and legends in high-performance computing</a><span class=\"sitebit comhead\"> (<a href=\"from?site=arxiv.org\"><span class=\"sitestr\">arxiv.org</span></a>)</span></span></td></tr><tr><td colspan=\"2\"></td><td class=\"subtext\"><span class=\"subline\">\n",
      "          <span class=\"score\" id=\"score_34320840\">37 points</span> by <a href=\"user?id=iamflimflam1\" class=\"hnuser\">iamflimflam1</a> <span class=\"age\" title=\"2023-01-10T05:20:08\"><a href=\"item?id=34320840\">4 hours ago</a></span> <span id=\"unv_34320840\"></span> | <a href=\"hide?id=34320840&amp;goto=news\">hide</a> | <a href=\"item?id=34320840\">discuss</a>        </span>\n",
      "              </td></tr>\n",
      "      <tr class=\"spacer\" style=\"height:5px\"></tr>\n",
      "                <tr class='athing' id='34321521'>\n",
      "      <td align=\"right\" valign=\"top\" class=\"title\"><span class=\"rank\">18.</span></td>      <td valign=\"top\" class=\"votelinks\"><center><a id='up_34321521'href='vote?id=34321521&amp;how=up&amp;goto=news'><div class='votearrow' title='upvote'></div></a></center></td><td class=\"title\"><span class=\"titleline\"><a href=\"https://en.wikipedia.org/wiki/Grandma_Gatewood\">Grandma Gatewood</a><span class=\"sitebit comhead\"> (<a href=\"from?site=wikipedia.org\"><span class=\"sitestr\">wikipedia.org</span></a>)</span></span></td></tr><tr><td colspan=\"2\"></td><td class=\"subtext\"><span class=\"subline\">\n",
      "          <span class=\"score\" id=\"score_34321521\">74 points</span> by <a href=\"user?id=samclemens\" class=\"hnuser\">samclemens</a> <span class=\"age\" title=\"2023-01-10T07:10:45\"><a href=\"item?id=34321521\">7 hours ago</a></span> <span id=\"unv_34321521\"></span> | <a href=\"hide?id=34321521&amp;goto=news\">hide</a> | <a href=\"item?id=34321521\">10&nbsp;comments</a>        </span>\n",
      "              </td></tr>\n",
      "      <tr class=\"spacer\" style=\"height:5px\"></tr>\n",
      "                <tr class='athing' id='34308876'>\n",
      "      <td align=\"right\" valign=\"top\" class=\"title\"><span class=\"rank\">19.</span></td>      <td valign=\"top\" class=\"votelinks\"><center><a id='up_34308876'href='vote?id=34308876&amp;how=up&amp;goto=news'><div class='votearrow' title='upvote'></div></a></center></td><td class=\"title\"><span class=\"titleline\"><a href=\"https://johanneshoff.com/learning-fpga/\">Learning Verilog and FPGA</a><span class=\"sitebit comhead\"> (<a href=\"from?site=johanneshoff.com\"><span class=\"sitestr\">johanneshoff.com</span></a>)</span></span></td></tr><tr><td colspan=\"2\"></td><td class=\"subtext\"><span class=\"subline\">\n",
      "          <span class=\"score\" id=\"score_34308876\">38 points</span> by <a href=\"user?id=bajsejohannes\" class=\"hnuser\">bajsejohannes</a> <span class=\"age\" title=\"2023-01-09T10:37:20\"><a href=\"item?id=34308876\">4 hours ago</a></span> <span id=\"unv_34308876\"></span> | <a href=\"hide?id=34308876&amp;goto=news\">hide</a> | <a href=\"item?id=34308876\">11&nbsp;comments</a>        </span>\n",
      "              </td></tr>\n",
      "      <tr class=\"spacer\" style=\"height:5px\"></tr>\n",
      "                <tr class='athing' id='34319478'>\n",
      "      <td align=\"right\" valign=\"top\" class=\"title\"><span class=\"rank\">20.</span></td>      <td valign=\"top\" class=\"votelinks\"><center><a id='up_34319478'href='vote?id=34319478&amp;how=up&amp;goto=news'><div class='votearrow' title='upvote'></div></a></center></td><td class=\"title\"><span class=\"titleline\"><a href=\"https://www.nytimes.com/2023/01/09/climate/ozone-hole-restoration-montreal-protocol.html\">Restoration of the ozone layer is back on track, scientists say</a><span class=\"sitebit comhead\"> (<a href=\"from?site=nytimes.com\"><span class=\"sitestr\">nytimes.com</span></a>)</span></span></td></tr><tr><td colspan=\"2\"></td><td class=\"subtext\"><span class=\"subline\">\n",
      "          <span class=\"score\" id=\"score_34319478\">113 points</span> by <a href=\"user?id=lxm\" class=\"hnuser\">lxm</a> <span class=\"age\" title=\"2023-01-10T02:14:15\"><a href=\"item?id=34319478\">9 hours ago</a></span> <span id=\"unv_34319478\"></span> | <a href=\"hide?id=34319478&amp;goto=news\">hide</a> | <a href=\"item?id=34319478\">35&nbsp;comments</a>        </span>\n",
      "              </td></tr>\n",
      "      <tr class=\"spacer\" style=\"height:5px\"></tr>\n",
      "                <tr class='athing' id='34315700'>\n",
      "      <td align=\"right\" valign=\"top\" class=\"title\"><span class=\"rank\">21.</span></td>      <td valign=\"top\" class=\"votelinks\"><center><a id='up_34315700'href='vote?id=34315700&amp;how=up&amp;goto=news'><div class='votearrow' title='upvote'></div></a></center></td><td class=\"title\"><span class=\"titleline\"><a href=\"https://lynne.ee/vulkan-video-decoding.html\" rel=\"nofollow\">Vulkan Video Decoding</a><span class=\"sitebit comhead\"> (<a href=\"from?site=lynne.ee\"><span class=\"sitestr\">lynne.ee</span></a>)</span></span></td></tr><tr><td colspan=\"2\"></td><td class=\"subtext\"><span class=\"subline\">\n",
      "          <span class=\"score\" id=\"score_34315700\">6 points</span> by <a href=\"user?id=zdw\" class=\"hnuser\">zdw</a> <span class=\"age\" title=\"2023-01-09T20:40:53\"><a href=\"item?id=34315700\">1 hour ago</a></span> <span id=\"unv_34315700\"></span> | <a href=\"hide?id=34315700&amp;goto=news\">hide</a> | <a href=\"item?id=34315700\">discuss</a>        </span>\n",
      "              </td></tr>\n",
      "      <tr class=\"spacer\" style=\"height:5px\"></tr>\n",
      "                <tr class='athing' id='34333282'>\n",
      "      <td align=\"right\" valign=\"top\" class=\"title\"><span class=\"rank\">22.</span></td>      <td valign=\"top\" class=\"votelinks\"><center><a id='up_34333282'href='vote?id=34333282&amp;how=up&amp;goto=news'><div class='votearrow' title='upvote'></div></a></center></td><td class=\"title\"><span class=\"titleline\"><a href=\"https://htmlwithsuperpowers.netlify.app/\">HTML with Superpowers: An Introduction to Web Components</a><span class=\"sitebit comhead\"> (<a href=\"from?site=htmlwithsuperpowers.netlify.app\"><span class=\"sitestr\">htmlwithsuperpowers.netlify.app</span></a>)</span></span></td></tr><tr><td colspan=\"2\"></td><td class=\"subtext\"><span class=\"subline\">\n",
      "          <span class=\"score\" id=\"score_34333282\">99 points</span> by <a href=\"user?id=lysergia\" class=\"hnuser\">lysergia</a> <span class=\"age\" title=\"2023-01-11T00:06:38\"><a href=\"item?id=34333282\">9 hours ago</a></span> <span id=\"unv_34333282\"></span> | <a href=\"hide?id=34333282&amp;goto=news\">hide</a> | <a href=\"item?id=34333282\">52&nbsp;comments</a>        </span>\n",
      "              </td></tr>\n",
      "      <tr class=\"spacer\" style=\"height:5px\"></tr>\n",
      "                <tr class='athing' id='34331225'>\n",
      "      <td align=\"right\" valign=\"top\" class=\"title\"><span class=\"rank\">23.</span></td>      <td valign=\"top\" class=\"votelinks\"><center><a id='up_34331225'href='vote?id=34331225&amp;how=up&amp;goto=news'><div class='votearrow' title='upvote'></div></a></center></td><td class=\"title\"><span class=\"titleline\"><a href=\"https://www.igalia.com/2023/01/10/Igalia-Brings-MathML-Back-to-Chromium.html\">Bringing MathML back to Chromium</a><span class=\"sitebit comhead\"> (<a href=\"from?site=igalia.com\"><span class=\"sitestr\">igalia.com</span></a>)</span></span></td></tr><tr><td colspan=\"2\"></td><td class=\"subtext\"><span class=\"subline\">\n",
      "          <span class=\"score\" id=\"score_34331225\">149 points</span> by <a href=\"user?id=ubavic\" class=\"hnuser\">ubavic</a> <span class=\"age\" title=\"2023-01-10T20:46:03\"><a href=\"item?id=34331225\">12 hours ago</a></span> <span id=\"unv_34331225\"></span> | <a href=\"hide?id=34331225&amp;goto=news\">hide</a> | <a href=\"item?id=34331225\">59&nbsp;comments</a>        </span>\n",
      "              </td></tr>\n",
      "      <tr class=\"spacer\" style=\"height:5px\"></tr>\n",
      "                <tr class='athing' id='34335066'>\n",
      "      <td align=\"right\" valign=\"top\" class=\"title\"><span class=\"rank\">24.</span></td>      <td valign=\"top\" class=\"votelinks\"><center><a id='up_34335066'href='vote?id=34335066&amp;how=up&amp;goto=news'><div class='votearrow' title='upvote'></div></a></center></td><td class=\"title\"><span class=\"titleline\"><a href=\"https://help.openai.com/en/articles/6825453-chatgpt-release-notes\">ChatGPT January 9th Release Notes</a><span class=\"sitebit comhead\"> (<a href=\"from?site=openai.com\"><span class=\"sitestr\">openai.com</span></a>)</span></span></td></tr><tr><td colspan=\"2\"></td><td class=\"subtext\"><span class=\"subline\">\n",
      "          <span class=\"score\" id=\"score_34335066\">37 points</span> by <a href=\"user?id=decremental\" class=\"hnuser\">decremental</a> <span class=\"age\" title=\"2023-01-11T04:40:32\"><a href=\"item?id=34335066\">4 hours ago</a></span> <span id=\"unv_34335066\"></span> | <a href=\"hide?id=34335066&amp;goto=news\">hide</a> | <a href=\"item?id=34335066\">19&nbsp;comments</a>        </span>\n",
      "              </td></tr>\n",
      "      <tr class=\"spacer\" style=\"height:5px\"></tr>\n",
      "                <tr class='athing' id='34334925'>\n",
      "      <td align=\"right\" valign=\"top\" class=\"title\"><span class=\"rank\">25.</span></td>      <td valign=\"top\" class=\"votelinks\"><center><a id='up_34334925'href='vote?id=34334925&amp;how=up&amp;goto=news'><div class='votearrow' title='upvote'></div></a></center></td><td class=\"title\"><span class=\"titleline\"><a href=\"https://insideevs.com/news/630075/mercedes-first-to-offer-level-3-self-driving-in-the-us/\">Mercedes is the first automaker to offer Level 3 self-driving in the US</a><span class=\"sitebit comhead\"> (<a href=\"from?site=insideevs.com\"><span class=\"sitestr\">insideevs.com</span></a>)</span></span></td></tr><tr><td colspan=\"2\"></td><td class=\"subtext\"><span class=\"subline\">\n",
      "          <span class=\"score\" id=\"score_34334925\">141 points</span> by <a href=\"user?id=bookofjoe\" class=\"hnuser\">bookofjoe</a> <span class=\"age\" title=\"2023-01-11T04:10:34\"><a href=\"item?id=34334925\">5 hours ago</a></span> <span id=\"unv_34334925\"></span> | <a href=\"hide?id=34334925&amp;goto=news\">hide</a> | <a href=\"item?id=34334925\">138&nbsp;comments</a>        </span>\n",
      "              </td></tr>\n",
      "      <tr class=\"spacer\" style=\"height:5px\"></tr>\n",
      "                <tr class='athing' id='34335173'>\n",
      "      <td align=\"right\" valign=\"top\" class=\"title\"><span class=\"rank\">26.</span></td>      <td valign=\"top\" class=\"votelinks\"><center><a id='up_34335173'href='vote?id=34335173&amp;how=up&amp;goto=news'><div class='votearrow' title='upvote'></div></a></center></td><td class=\"title\"><span class=\"titleline\"><a href=\"https://bigthink.com/strange-maps/maps-on-stamps/\">What’s better than maps or stamps? Maps on stamps</a><span class=\"sitebit comhead\"> (<a href=\"from?site=bigthink.com\"><span class=\"sitestr\">bigthink.com</span></a>)</span></span></td></tr><tr><td colspan=\"2\"></td><td class=\"subtext\"><span class=\"subline\">\n",
      "          <span class=\"score\" id=\"score_34335173\">22 points</span> by <a href=\"user?id=sohkamyung\" class=\"hnuser\">sohkamyung</a> <span class=\"age\" title=\"2023-01-11T04:59:14\"><a href=\"item?id=34335173\">4 hours ago</a></span> <span id=\"unv_34335173\"></span> | <a href=\"hide?id=34335173&amp;goto=news\">hide</a> | <a href=\"item?id=34335173\">1&nbsp;comment</a>        </span>\n",
      "              </td></tr>\n",
      "      <tr class=\"spacer\" style=\"height:5px\"></tr>\n",
      "                <tr class='athing' id='34311647'>\n",
      "      <td align=\"right\" valign=\"top\" class=\"title\"><span class=\"rank\">27.</span></td>      <td valign=\"top\" class=\"votelinks\"><center><a id='up_34311647'href='vote?id=34311647&amp;how=up&amp;goto=news'><div class='votearrow' title='upvote'></div></a></center></td><td class=\"title\"><span class=\"titleline\"><a href=\"https://www.pearlleff.com/stem-cell-donation\">My experience donating stem cells</a><span class=\"sitebit comhead\"> (<a href=\"from?site=pearlleff.com\"><span class=\"sitestr\">pearlleff.com</span></a>)</span></span></td></tr><tr><td colspan=\"2\"></td><td class=\"subtext\"><span class=\"subline\">\n",
      "          <span class=\"score\" id=\"score_34311647\">17 points</span> by <a href=\"user?id=saperyton\" class=\"hnuser\">saperyton</a> <span class=\"age\" title=\"2023-01-09T15:50:00\"><a href=\"item?id=34311647\">3 hours ago</a></span> <span id=\"unv_34311647\"></span> | <a href=\"hide?id=34311647&amp;goto=news\">hide</a> | <a href=\"item?id=34311647\">7&nbsp;comments</a>        </span>\n",
      "              </td></tr>\n",
      "      <tr class=\"spacer\" style=\"height:5px\"></tr>\n",
      "                <tr class='athing' id='34325695'>\n",
      "      <td align=\"right\" valign=\"top\" class=\"title\"><span class=\"rank\">28.</span></td>      <td valign=\"top\" class=\"votelinks\"><center><a id='up_34325695'href='vote?id=34325695&amp;how=up&amp;goto=news'><div class='votearrow' title='upvote'></div></a></center></td><td class=\"title\"><span class=\"titleline\"><a href=\"https://blog.kchung.co/taking-over-a-dead-iot-company/\">Taking over a Dead IoT Company</a><span class=\"sitebit comhead\"> (<a href=\"from?site=kchung.co\"><span class=\"sitestr\">kchung.co</span></a>)</span></span></td></tr><tr><td colspan=\"2\"></td><td class=\"subtext\"><span class=\"subline\">\n",
      "          <span class=\"score\" id=\"score_34325695\">973 points</span> by <a href=\"user?id=pulisse\" class=\"hnuser\">pulisse</a> <span class=\"age\" title=\"2023-01-10T14:52:40\"><a href=\"item?id=34325695\">18 hours ago</a></span> <span id=\"unv_34325695\"></span> | <a href=\"hide?id=34325695&amp;goto=news\">hide</a> | <a href=\"item?id=34325695\">173&nbsp;comments</a>        </span>\n",
      "              </td></tr>\n",
      "      <tr class=\"spacer\" style=\"height:5px\"></tr>\n",
      "                <tr class='athing' id='34331216'>\n",
      "      <td align=\"right\" valign=\"top\" class=\"title\"><span class=\"rank\">29.</span></td>      <td valign=\"top\" class=\"votelinks\"><center><a id='up_34331216'href='vote?id=34331216&amp;how=up&amp;goto=news'><div class='votearrow' title='upvote'></div></a></center></td><td class=\"title\"><span class=\"titleline\"><a href=\"https://steveblank.com/2023/01/10/be-where-your-business-is/\">Be where your business is</a><span class=\"sitebit comhead\"> (<a href=\"from?site=steveblank.com\"><span class=\"sitestr\">steveblank.com</span></a>)</span></span></td></tr><tr><td colspan=\"2\"></td><td class=\"subtext\"><span class=\"subline\">\n",
      "          <span class=\"score\" id=\"score_34331216\">128 points</span> by <a href=\"user?id=rmason\" class=\"hnuser\">rmason</a> <span class=\"age\" title=\"2023-01-10T20:45:06\"><a href=\"item?id=34331216\">12 hours ago</a></span> <span id=\"unv_34331216\"></span> | <a href=\"hide?id=34331216&amp;goto=news\">hide</a> | <a href=\"item?id=34331216\">54&nbsp;comments</a>        </span>\n",
      "              </td></tr>\n",
      "      <tr class=\"spacer\" style=\"height:5px\"></tr>\n",
      "                <tr class='athing' id='34328069'>\n",
      "      <td align=\"right\" valign=\"top\" class=\"title\"><span class=\"rank\">30.</span></td>      <td valign=\"top\" class=\"votelinks\"><center><a id='up_34328069'href='vote?id=34328069&amp;how=up&amp;goto=news'><div class='votearrow' title='upvote'></div></a></center></td><td class=\"title\"><span class=\"titleline\"><a href=\"https://www.baldurbjarnason.com/2022/theory-building/\">Theory-building and why employee churn is lethal to software companies</a><span class=\"sitebit comhead\"> (<a href=\"from?site=baldurbjarnason.com\"><span class=\"sitestr\">baldurbjarnason.com</span></a>)</span></span></td></tr><tr><td colspan=\"2\"></td><td class=\"subtext\"><span class=\"subline\">\n",
      "          <span class=\"score\" id=\"score_34328069\">538 points</span> by <a href=\"user?id=bwestergard\" class=\"hnuser\">bwestergard</a> <span class=\"age\" title=\"2023-01-10T17:13:06\"><a href=\"item?id=34328069\">16 hours ago</a></span> <span id=\"unv_34328069\"></span> | <a href=\"hide?id=34328069&amp;goto=news\">hide</a> | <a href=\"item?id=34328069\">344&nbsp;comments</a>        </span>\n",
      "              </td></tr>\n",
      "      <tr class=\"spacer\" style=\"height:5px\"></tr>\n",
      "            <tr class=\"morespace\" style=\"height:10px\"></tr><tr><td colspan=\"2\"></td>\n",
      "      <td class='title'><a href='?p=2' class='morelink' rel='next'>More</a></td>    </tr>\n",
      "  </table>\n",
      "</td></tr>\n",
      "<tr><td><img src=\"s.gif\" height=\"10\" width=\"0\"><table width=\"100%\" cellspacing=\"0\" cellpadding=\"1\"><tr><td bgcolor=\"#ff6600\"></td></tr></table><br>\n",
      "<center><span class=\"yclinks\"><a href=\"newsguidelines.html\">Guidelines</a> | <a href=\"newsfaq.html\">FAQ</a> | <a href=\"lists\">Lists</a> | <a href=\"https://github.com/HackerNews/API\">API</a> | <a href=\"security.html\">Security</a> | <a href=\"https://www.ycombinator.com/legal/\">Legal</a> | <a href=\"https://www.ycombinator.com/apply/\">Apply to YC</a> | <a href=\"mailto:hn@ycombinator.com\">Contact</a></span><br><br>\n",
      "<form method=\"get\" action=\"//hn.algolia.com/\">Search: <input type=\"text\" name=\"q\" size=\"17\" autocorrect=\"off\" spellcheck=\"false\" autocapitalize=\"off\" autocomplete=\"false\"></form></center></td></tr>      </table></center></body>\n",
      "      <script type='text/javascript' src='hn.js?QksU6TPe1jTZcj4weVQN'></script>\n",
      "  </html>\n",
      "\n"
     ]
    }
   ],
   "source": [
    "import requests\n",
    "\n",
    "# Fetch a web page\n",
    "r = requests.get(\"https://news.ycombinator.com\")\n",
    "print(r.text)"
   ]
  },
  {
   "cell_type": "code",
   "execution_count": 22,
   "metadata": {},
   "outputs": [
    {
     "name": "stdout",
     "output_type": "stream",
     "text": [
      "\n",
      "        \n",
      "          \n",
      "        Hacker News\n",
      "        \n",
      "                  Hacker News\n",
      "                            new | past | comments | ask | show | jobs | submit            \n",
      "                              login\n",
      "                          \n",
      "              \n",
      "\n",
      "            \n",
      "      1.      Building an Internet Scale Meme Search Engine (findthatmeme.com)\n",
      "          236 points by whoisburbansky 3 hours ago  | hide | 52&nbsp;comments        \n",
      "              \n",
      "      \n",
      "                \n",
      "      2.      The Unexpected Heaviosity of Ferris Bueller’s Day Off (2006) (vqronline.org)\n",
      "          42 points by hyperific 1 hour ago  | hide | 19&nbsp;comments        \n",
      "              \n",
      "      \n",
      "                \n",
      "      3.      Pirate Weather: A free, open, and documented forecast API (pirateweather.net)\n",
      "          894 points by calebegg 14 hours ago  | hide | 159&nbsp;comments        \n",
      "              \n",
      "      \n",
      "                \n",
      "      4.      What happens when a CPU starts (tripod.com)\n",
      "          303 points by nowandlater 8 hours ago  | hide | 82&nbsp;comments        \n",
      "              \n",
      "      \n",
      "                \n",
      "      5.      NetworkX 3.0 - create, manipulate, and study complex networks in Python (networkx.org)\n",
      "          89 points by anigbrowl 5 hours ago  | hide | 20&nbsp;comments        \n",
      "              \n",
      "      \n",
      "                \n",
      "      6.      Lessons in Electric Circuits (allaboutcircuits.com)\n",
      "          124 points by lobo_tuerto 6 hours ago  | hide | 9&nbsp;comments        \n",
      "              \n",
      "      \n",
      "                \n",
      "      7.      Naming Elixir Phoenix context functions (stephenlewis.me)\n",
      "          10 points by amalinovic 58 minutes ago  | hide | discuss        \n",
      "              \n",
      "      \n",
      "                \n",
      "      8.      A look at Unison: a revolutionary programming language (athaydes.com)\n",
      "          157 points by lycopodiopsida 8 hours ago  | hide | 42&nbsp;comments        \n",
      "              \n",
      "      \n",
      "                \n",
      "      9.      Secondments at Zapier (zapier.com)\n",
      "          37 points by theresistor 4 hours ago  | hide | 23&nbsp;comments        \n",
      "              \n",
      "      \n",
      "                \n",
      "      10.      On PBKDF2 iterations (neilmadden.blog)\n",
      "          21 points by rainworld 2 hours ago  | hide | 5&nbsp;comments        \n",
      "              \n",
      "      \n",
      "                \n",
      "      11.             Actiondesk (YC S19) Is Hiring a Product Designer (4-6 months contract) (ycombinator.com)\n",
      "        2 hours ago | hide      \n",
      "      \n",
      "                \n",
      "      12.      In Lebanon, solar power is booming (sapiens.org)\n",
      "          159 points by miohtama 10 hours ago  | hide | 60&nbsp;comments        \n",
      "              \n",
      "      \n",
      "                \n",
      "      13.      NanoGPT (github.com/karpathy)\n",
      "          7 points by trekhleb 1 hour ago  | hide | discuss        \n",
      "              \n",
      "      \n",
      "                \n",
      "      14.      Surprising Consequences of macOS’s Environment Variable Sanitization (hynek.me)\n",
      "          34 points by ash 3 hours ago  | hide | 9&nbsp;comments        \n",
      "              \n",
      "      \n",
      "                \n",
      "      15.      Usbc.wtf – an article and quiz to find the right USB-C cable (usbc.wtf)\n",
      "          147 points by ryanhn 9 hours ago  | hide | 62&nbsp;comments        \n",
      "              \n",
      "      \n",
      "                \n",
      "      16.      NeevaAI (neeva.com)\n",
      "          229 points by corentin88 11 hours ago  | hide | 114&nbsp;comments        \n",
      "              \n",
      "      \n",
      "                \n",
      "      17.      Myths and legends in high-performance computing (arxiv.org)\n",
      "          37 points by iamflimflam1 4 hours ago  | hide | discuss        \n",
      "              \n",
      "      \n",
      "                \n",
      "      18.      Grandma Gatewood (wikipedia.org)\n",
      "          74 points by samclemens 7 hours ago  | hide | 10&nbsp;comments        \n",
      "              \n",
      "      \n",
      "                \n",
      "      19.      Learning Verilog and FPGA (johanneshoff.com)\n",
      "          38 points by bajsejohannes 4 hours ago  | hide | 11&nbsp;comments        \n",
      "              \n",
      "      \n",
      "                \n",
      "      20.      Restoration of the ozone layer is back on track, scientists say (nytimes.com)\n",
      "          113 points by lxm 9 hours ago  | hide | 35&nbsp;comments        \n",
      "              \n",
      "      \n",
      "                \n",
      "      21.      Vulkan Video Decoding (lynne.ee)\n",
      "          6 points by zdw 1 hour ago  | hide | discuss        \n",
      "              \n",
      "      \n",
      "                \n",
      "      22.      HTML with Superpowers: An Introduction to Web Components (htmlwithsuperpowers.netlify.app)\n",
      "          99 points by lysergia 9 hours ago  | hide | 52&nbsp;comments        \n",
      "              \n",
      "      \n",
      "                \n",
      "      23.      Bringing MathML back to Chromium (igalia.com)\n",
      "          149 points by ubavic 12 hours ago  | hide | 59&nbsp;comments        \n",
      "              \n",
      "      \n",
      "                \n",
      "      24.      ChatGPT January 9th Release Notes (openai.com)\n",
      "          37 points by decremental 4 hours ago  | hide | 19&nbsp;comments        \n",
      "              \n",
      "      \n",
      "                \n",
      "      25.      Mercedes is the first automaker to offer Level 3 self-driving in the US (insideevs.com)\n",
      "          141 points by bookofjoe 5 hours ago  | hide | 138&nbsp;comments        \n",
      "              \n",
      "      \n",
      "                \n",
      "      26.      What’s better than maps or stamps? Maps on stamps (bigthink.com)\n",
      "          22 points by sohkamyung 4 hours ago  | hide | 1&nbsp;comment        \n",
      "              \n",
      "      \n",
      "                \n",
      "      27.      My experience donating stem cells (pearlleff.com)\n",
      "          17 points by saperyton 3 hours ago  | hide | 7&nbsp;comments        \n",
      "              \n",
      "      \n",
      "                \n",
      "      28.      Taking over a Dead IoT Company (kchung.co)\n",
      "          973 points by pulisse 18 hours ago  | hide | 173&nbsp;comments        \n",
      "              \n",
      "      \n",
      "                \n",
      "      29.      Be where your business is (steveblank.com)\n",
      "          128 points by rmason 12 hours ago  | hide | 54&nbsp;comments        \n",
      "              \n",
      "      \n",
      "                \n",
      "      30.      Theory-building and why employee churn is lethal to software companies (baldurbjarnason.com)\n",
      "          538 points by bwestergard 16 hours ago  | hide | 344&nbsp;comments        \n",
      "              \n",
      "      \n",
      "            \n",
      "      More    \n",
      "  \n",
      "\n",
      "\n",
      "Guidelines | FAQ | Lists | API | Security | Legal | Apply to YC | Contact\n",
      "Search:       \n",
      "      \n",
      "  \n",
      "\n"
     ]
    }
   ],
   "source": [
    "import re\n",
    "\n",
    "# Remove HTML tags using RegEx\n",
    "pattern = re.compile(r'<.*?>')  # tags look like <...>\n",
    "print(pattern.sub('', r.text))  # replace them with blank"
   ]
  },
  {
   "cell_type": "code",
   "execution_count": 23,
   "metadata": {},
   "outputs": [
    {
     "name": "stdout",
     "output_type": "stream",
     "text": [
      "\n",
      "\n",
      "\n",
      "Hacker News\n",
      "\n",
      "Hacker News\n",
      "new | past | comments | ask | show | jobs | submit \n",
      "login\n",
      "\n",
      "\n",
      "\n",
      "\n",
      "1. Building an Internet Scale Meme Search Engine (findthatmeme.com)\n",
      "236 points by whoisburbansky 3 hours ago  | hide | 52 comments \n",
      "\n",
      "\n",
      "\n",
      "2. The Unexpected Heaviosity of Ferris Bueller’s Day Off (2006) (vqronline.org)\n",
      "42 points by hyperific 1 hour ago  | hide | 19 comments \n",
      "\n",
      "\n",
      "\n",
      "3. Pirate Weather: A free, open, and documented forecast API (pirateweather.net)\n",
      "894 points by calebegg 14 hours ago  | hide | 159 comments \n",
      "\n",
      "\n",
      "\n",
      "4. What happens when a CPU starts (tripod.com)\n",
      "303 points by nowandlater 8 hours ago  | hide | 82 comments \n",
      "\n",
      "\n",
      "\n",
      "5. NetworkX 3.0 - create, manipulate, and study complex networks in Python (networkx.org)\n",
      "89 points by anigbrowl 5 hours ago  | hide | 20 comments \n",
      "\n",
      "\n",
      "\n",
      "6. Lessons in Electric Circuits (allaboutcircuits.com)\n",
      "124 points by lobo_tuerto 6 hours ago  | hide | 9 comments \n",
      "\n",
      "\n",
      "\n",
      "7. Naming Elixir Phoenix context functions (stephenlewis.me)\n",
      "10 points by amalinovic 58 minutes ago  | hide | discuss \n",
      "\n",
      "\n",
      "\n",
      "8. A look at Unison: a revolutionary programming language (athaydes.com)\n",
      "157 points by lycopodiopsida 8 hours ago  | hide | 42 comments \n",
      "\n",
      "\n",
      "\n",
      "9. Secondments at Zapier (zapier.com)\n",
      "37 points by theresistor 4 hours ago  | hide | 23 comments \n",
      "\n",
      "\n",
      "\n",
      "10. On PBKDF2 iterations (neilmadden.blog)\n",
      "21 points by rainworld 2 hours ago  | hide | 5 comments \n",
      "\n",
      "\n",
      "\n",
      "11.  Actiondesk (YC S19) Is Hiring a Product Designer (4-6 months contract) (ycombinator.com)\n",
      "2 hours ago | hide \n",
      "\n",
      "\n",
      "12. In Lebanon, solar power is booming (sapiens.org)\n",
      "159 points by miohtama 10 hours ago  | hide | 60 comments \n",
      "\n",
      "\n",
      "\n",
      "13. NanoGPT (github.com/karpathy)\n",
      "7 points by trekhleb 1 hour ago  | hide | discuss \n",
      "\n",
      "\n",
      "\n",
      "14. Surprising Consequences of macOS’s Environment Variable Sanitization (hynek.me)\n",
      "34 points by ash 3 hours ago  | hide | 9 comments \n",
      "\n",
      "\n",
      "\n",
      "15. Usbc.wtf – an article and quiz to find the right USB-C cable (usbc.wtf)\n",
      "147 points by ryanhn 9 hours ago  | hide | 62 comments \n",
      "\n",
      "\n",
      "\n",
      "16. NeevaAI (neeva.com)\n",
      "229 points by corentin88 11 hours ago  | hide | 114 comments \n",
      "\n",
      "\n",
      "\n",
      "17. Myths and legends in high-performance computing (arxiv.org)\n",
      "37 points by iamflimflam1 4 hours ago  | hide | discuss \n",
      "\n",
      "\n",
      "\n",
      "18. Grandma Gatewood (wikipedia.org)\n",
      "74 points by samclemens 7 hours ago  | hide | 10 comments \n",
      "\n",
      "\n",
      "\n",
      "19. Learning Verilog and FPGA (johanneshoff.com)\n",
      "38 points by bajsejohannes 4 hours ago  | hide | 11 comments \n",
      "\n",
      "\n",
      "\n",
      "20. Restoration of the ozone layer is back on track, scientists say (nytimes.com)\n",
      "113 points by lxm 9 hours ago  | hide | 35 comments \n",
      "\n",
      "\n",
      "\n",
      "21. Vulkan Video Decoding (lynne.ee)\n",
      "6 points by zdw 1 hour ago  | hide | discuss \n",
      "\n",
      "\n",
      "\n",
      "22. HTML with Superpowers: An Introduction to Web Components (htmlwithsuperpowers.netlify.app)\n",
      "99 points by lysergia 9 hours ago  | hide | 52 comments \n",
      "\n",
      "\n",
      "\n",
      "23. Bringing MathML back to Chromium (igalia.com)\n",
      "149 points by ubavic 12 hours ago  | hide | 59 comments \n",
      "\n",
      "\n",
      "\n",
      "24. ChatGPT January 9th Release Notes (openai.com)\n",
      "37 points by decremental 4 hours ago  | hide | 19 comments \n",
      "\n",
      "\n",
      "\n",
      "25. Mercedes is the first automaker to offer Level 3 self-driving in the US (insideevs.com)\n",
      "141 points by bookofjoe 5 hours ago  | hide | 138 comments \n",
      "\n",
      "\n",
      "\n",
      "26. What’s better than maps or stamps? Maps on stamps (bigthink.com)\n",
      "22 points by sohkamyung 4 hours ago  | hide | 1 comment \n",
      "\n",
      "\n",
      "\n",
      "27. My experience donating stem cells (pearlleff.com)\n",
      "17 points by saperyton 3 hours ago  | hide | 7 comments \n",
      "\n",
      "\n",
      "\n",
      "28. Taking over a Dead IoT Company (kchung.co)\n",
      "973 points by pulisse 18 hours ago  | hide | 173 comments \n",
      "\n",
      "\n",
      "\n",
      "29. Be where your business is (steveblank.com)\n",
      "128 points by rmason 12 hours ago  | hide | 54 comments \n",
      "\n",
      "\n",
      "\n",
      "30. Theory-building and why employee churn is lethal to software companies (baldurbjarnason.com)\n",
      "538 points by bwestergard 16 hours ago  | hide | 344 comments \n",
      "\n",
      "\n",
      "\n",
      "More \n",
      "\n",
      "\n",
      "\n",
      "Guidelines | FAQ | Lists | API | Security | Legal | Apply to YC | Contact\n",
      "Search:  \n",
      "\n",
      "\n",
      "\n"
     ]
    }
   ],
   "source": [
    "from bs4 import BeautifulSoup\n",
    "\n",
    "# Remove HTML tags using Beautiful Soup library\n",
    "soup = BeautifulSoup(r.text, \"html\")\n",
    "print(soup.get_text())"
   ]
  },
  {
   "cell_type": "code",
   "execution_count": 24,
   "metadata": {
    "scrolled": true
   },
   "outputs": [
    {
     "data": {
      "text/plain": [
       "<tr class=\"athing\" id=\"34315782\">\n",
       "<td align=\"right\" class=\"title\" valign=\"top\"><span class=\"rank\">1.</span></td> <td class=\"votelinks\" valign=\"top\"><center><a href=\"vote?id=34315782&amp;how=up&amp;goto=news\" id=\"up_34315782\"><div class=\"votearrow\" title=\"upvote\"></div></a></center></td><td class=\"title\"><span class=\"titleline\"><a href=\"https://findthatmeme.com/blog/2023/01/08/image-stacks-and-iphone-racks-building-an-internet-scale-meme-search-engine-Qzrz7V6T.html\">Building an Internet Scale Meme Search Engine</a><span class=\"sitebit comhead\"> (<a href=\"from?site=findthatmeme.com\"><span class=\"sitestr\">findthatmeme.com</span></a>)</span></span></td></tr>"
      ]
     },
     "execution_count": 24,
     "metadata": {},
     "output_type": "execute_result"
    }
   ],
   "source": [
    "# Find all articles\n",
    "summaries = soup.find_all(\"tr\", class_=\"athing\")\n",
    "summaries[0]"
   ]
  },
  {
   "cell_type": "code",
   "execution_count": 28,
   "metadata": {},
   "outputs": [],
   "source": [
    "# Extract title\n",
    "summaries[0].find(\"a\", class_=\"storylink\")"
   ]
  },
  {
   "cell_type": "code",
   "execution_count": 30,
   "metadata": {},
   "outputs": [
    {
     "name": "stdout",
     "output_type": "stream",
     "text": [
      "30 Article summaries found. Sample:\n",
      "None\n"
     ]
    }
   ],
   "source": [
    "# Find all articles, extract titles\n",
    "articles = []\n",
    "summaries = soup.find_all(\"tr\", class_=\"athing\")\n",
    "for summary in summaries:\n",
    "    title = summary.find(\"a\", class_=\"storylink\")\n",
    "    articles.append((title))\n",
    "\n",
    "print(len(articles), \"Article summaries found. Sample:\")\n",
    "print(articles[0])"
   ]
  },
  {
   "cell_type": "markdown",
   "metadata": {
    "collapsed": true
   },
   "source": [
    "## Normalization"
   ]
  },
  {
   "cell_type": "markdown",
   "metadata": {},
   "source": [
    "### Case Normalization"
   ]
  },
  {
   "cell_type": "code",
   "execution_count": 31,
   "metadata": {},
   "outputs": [
    {
     "name": "stdout",
     "output_type": "stream",
     "text": [
      "The first time you see The Second Renaissance it may look boring. Look at it at least twice and definitely watch part 2. It will change your view of the matrix. Are the human people the ones who started the war ? Is AI a bad thing ?\n"
     ]
    }
   ],
   "source": [
    "# Sample text\n",
    "text = \"The first time you see The Second Renaissance it may look boring. Look at it at least twice and definitely watch part 2. It will change your view of the matrix. Are the human people the ones who started the war ? Is AI a bad thing ?\"\n",
    "print(text)"
   ]
  },
  {
   "cell_type": "code",
   "execution_count": 32,
   "metadata": {},
   "outputs": [
    {
     "name": "stdout",
     "output_type": "stream",
     "text": [
      "the first time you see the second renaissance it may look boring. look at it at least twice and definitely watch part 2. it will change your view of the matrix. are the human people the ones who started the war ? is ai a bad thing ?\n"
     ]
    }
   ],
   "source": [
    "# Convert to lowercase\n",
    "text = text.lower() \n",
    "print(text)"
   ]
  },
  {
   "cell_type": "markdown",
   "metadata": {},
   "source": [
    "### Punctuation Removal"
   ]
  },
  {
   "cell_type": "code",
   "execution_count": 33,
   "metadata": {},
   "outputs": [
    {
     "name": "stdout",
     "output_type": "stream",
     "text": [
      "the first time you see the second renaissance it may look boring  look at it at least twice and definitely watch part 2  it will change your view of the matrix  are the human people the ones who started the war   is ai a bad thing  \n"
     ]
    }
   ],
   "source": [
    "import re\n",
    "\n",
    "# Remove punctuation characters\n",
    "text = re.sub(r\"[^a-zA-Z0-9]\", \" \", text) \n",
    "print(text)"
   ]
  },
  {
   "cell_type": "markdown",
   "metadata": {},
   "source": [
    "## Tokenization"
   ]
  },
  {
   "cell_type": "code",
   "execution_count": 34,
   "metadata": {},
   "outputs": [
    {
     "name": "stdout",
     "output_type": "stream",
     "text": [
      "['the', 'first', 'time', 'you', 'see', 'the', 'second', 'renaissance', 'it', 'may', 'look', 'boring', 'look', 'at', 'it', 'at', 'least', 'twice', 'and', 'definitely', 'watch', 'part', '2', 'it', 'will', 'change', 'your', 'view', 'of', 'the', 'matrix', 'are', 'the', 'human', 'people', 'the', 'ones', 'who', 'started', 'the', 'war', 'is', 'ai', 'a', 'bad', 'thing']\n"
     ]
    }
   ],
   "source": [
    "# Split text into tokens (words)\n",
    "words = text.split()\n",
    "print(words)"
   ]
  },
  {
   "cell_type": "markdown",
   "metadata": {},
   "source": [
    "### NLTK: Natural Language ToolKit"
   ]
  },
  {
   "cell_type": "code",
   "execution_count": 35,
   "metadata": {},
   "outputs": [],
   "source": [
    "import os\n",
    "import nltk\n",
    "nltk.data.path.append(os.path.join(os.getcwd(), \"nltk_data\"))"
   ]
  },
  {
   "cell_type": "code",
   "execution_count": 36,
   "metadata": {},
   "outputs": [
    {
     "name": "stdout",
     "output_type": "stream",
     "text": [
      "Dr. Smith graduated from the University of Washington. He later started an analytics firm called Lux, which catered to enterprise customers.\n"
     ]
    }
   ],
   "source": [
    "# Another sample text\n",
    "text = \"Dr. Smith graduated from the University of Washington. He later started an analytics firm called Lux, which catered to enterprise customers.\"\n",
    "print(text)"
   ]
  },
  {
   "cell_type": "code",
   "execution_count": 37,
   "metadata": {},
   "outputs": [
    {
     "name": "stdout",
     "output_type": "stream",
     "text": [
      "['Dr.', 'Smith', 'graduated', 'from', 'the', 'University', 'of', 'Washington', '.', 'He', 'later', 'started', 'an', 'analytics', 'firm', 'called', 'Lux', ',', 'which', 'catered', 'to', 'enterprise', 'customers', '.']\n"
     ]
    }
   ],
   "source": [
    "from nltk.tokenize import word_tokenize\n",
    "\n",
    "# Split text into words using NLTK\n",
    "words = word_tokenize(text)\n",
    "print(words)"
   ]
  },
  {
   "cell_type": "code",
   "execution_count": 38,
   "metadata": {},
   "outputs": [
    {
     "name": "stdout",
     "output_type": "stream",
     "text": [
      "['Dr. Smith graduated from the University of Washington.', 'He later started an analytics firm called Lux, which catered to enterprise customers.']\n"
     ]
    }
   ],
   "source": [
    "from nltk.tokenize import sent_tokenize\n",
    "\n",
    "# Split text into sentences\n",
    "sentences = sent_tokenize(text)\n",
    "print(sentences)"
   ]
  },
  {
   "cell_type": "code",
   "execution_count": 39,
   "metadata": {},
   "outputs": [
    {
     "name": "stdout",
     "output_type": "stream",
     "text": [
      "['i', 'me', 'my', 'myself', 'we', 'our', 'ours', 'ourselves', 'you', \"you're\", \"you've\", \"you'll\", \"you'd\", 'your', 'yours', 'yourself', 'yourselves', 'he', 'him', 'his', 'himself', 'she', \"she's\", 'her', 'hers', 'herself', 'it', \"it's\", 'its', 'itself', 'they', 'them', 'their', 'theirs', 'themselves', 'what', 'which', 'who', 'whom', 'this', 'that', \"that'll\", 'these', 'those', 'am', 'is', 'are', 'was', 'were', 'be', 'been', 'being', 'have', 'has', 'had', 'having', 'do', 'does', 'did', 'doing', 'a', 'an', 'the', 'and', 'but', 'if', 'or', 'because', 'as', 'until', 'while', 'of', 'at', 'by', 'for', 'with', 'about', 'against', 'between', 'into', 'through', 'during', 'before', 'after', 'above', 'below', 'to', 'from', 'up', 'down', 'in', 'out', 'on', 'off', 'over', 'under', 'again', 'further', 'then', 'once', 'here', 'there', 'when', 'where', 'why', 'how', 'all', 'any', 'both', 'each', 'few', 'more', 'most', 'other', 'some', 'such', 'no', 'nor', 'not', 'only', 'own', 'same', 'so', 'than', 'too', 'very', 's', 't', 'can', 'will', 'just', 'don', \"don't\", 'should', \"should've\", 'now', 'd', 'll', 'm', 'o', 're', 've', 'y', 'ain', 'aren', \"aren't\", 'couldn', \"couldn't\", 'didn', \"didn't\", 'doesn', \"doesn't\", 'hadn', \"hadn't\", 'hasn', \"hasn't\", 'haven', \"haven't\", 'isn', \"isn't\", 'ma', 'mightn', \"mightn't\", 'mustn', \"mustn't\", 'needn', \"needn't\", 'shan', \"shan't\", 'shouldn', \"shouldn't\", 'wasn', \"wasn't\", 'weren', \"weren't\", 'won', \"won't\", 'wouldn', \"wouldn't\"]\n"
     ]
    }
   ],
   "source": [
    "# List stop words\n",
    "from nltk.corpus import stopwords\n",
    "print(stopwords.words(\"english\"))"
   ]
  },
  {
   "cell_type": "code",
   "execution_count": 40,
   "metadata": {},
   "outputs": [
    {
     "name": "stdout",
     "output_type": "stream",
     "text": [
      "['the', 'first', 'time', 'you', 'see', 'the', 'second', 'renaissance', 'it', 'may', 'look', 'boring', 'look', 'at', 'it', 'at', 'least', 'twice', 'and', 'definitely', 'watch', 'part', '2', 'it', 'will', 'change', 'your', 'view', 'of', 'the', 'matrix', 'are', 'the', 'human', 'people', 'the', 'ones', 'who', 'started', 'the', 'war', 'is', 'ai', 'a', 'bad', 'thing']\n"
     ]
    }
   ],
   "source": [
    "# Reset text\n",
    "text = \"The first time you see The Second Renaissance it may look boring. Look at it at least twice and definitely watch part 2. It will change your view of the matrix. Are the human people the ones who started the war ? Is AI a bad thing ?\"\n",
    "\n",
    "# Normalize it (take out punctuations and transform to lowecase)\n",
    "text = re.sub(r\"[^a-zA-Z0-9]\", \" \", text.lower())\n",
    "\n",
    "# Tokenize it\n",
    "words = text.split()\n",
    "print(words)"
   ]
  },
  {
   "cell_type": "code",
   "execution_count": 41,
   "metadata": {},
   "outputs": [
    {
     "name": "stdout",
     "output_type": "stream",
     "text": [
      "['first', 'time', 'see', 'second', 'renaissance', 'may', 'look', 'boring', 'look', 'least', 'twice', 'definitely', 'watch', 'part', '2', 'change', 'view', 'matrix', 'human', 'people', 'ones', 'started', 'war', 'ai', 'bad', 'thing']\n"
     ]
    }
   ],
   "source": [
    "# Remove stop words\n",
    "words = [w for w in words if w not in stopwords.words(\"english\")]\n",
    "print(words)"
   ]
  },
  {
   "cell_type": "markdown",
   "metadata": {},
   "source": [
    "### Sentence Parsing"
   ]
  },
  {
   "cell_type": "code",
   "execution_count": 42,
   "metadata": {},
   "outputs": [
    {
     "name": "stdout",
     "output_type": "stream",
     "text": [
      "(S\n",
      "  (NP I)\n",
      "  (VP\n",
      "    (VP (V shot) (NP (Det an) (N elephant)))\n",
      "    (PP (P in) (NP (Det my) (N pajamas)))))\n",
      "(S\n",
      "  (NP I)\n",
      "  (VP\n",
      "    (V shot)\n",
      "    (NP (Det an) (N elephant) (PP (P in) (NP (Det my) (N pajamas))))))\n"
     ]
    }
   ],
   "source": [
    "import nltk\n",
    "\n",
    "# Define a custom grammar\n",
    "my_grammar = nltk.CFG.fromstring(\"\"\"\n",
    "S -> NP VP\n",
    "PP -> P NP\n",
    "NP -> Det N | Det N PP | 'I'\n",
    "VP -> V NP | VP PP\n",
    "Det -> 'an' | 'my'\n",
    "N -> 'elephant' | 'pajamas'\n",
    "V -> 'shot'\n",
    "P -> 'in'\n",
    "\"\"\")\n",
    "parser = nltk.ChartParser(my_grammar)\n",
    "\n",
    "# Parse a sentence\n",
    "sentence = word_tokenize(\"I shot an elephant in my pajamas\")\n",
    "for tree in parser.parse(sentence):\n",
    "    print(tree)"
   ]
  },
  {
   "cell_type": "markdown",
   "metadata": {},
   "source": [
    "## Stemming & Lemmatization\n",
    "\n",
    "### Stemming"
   ]
  },
  {
   "cell_type": "code",
   "execution_count": 43,
   "metadata": {},
   "outputs": [
    {
     "name": "stdout",
     "output_type": "stream",
     "text": [
      "['first', 'time', 'see', 'second', 'renaiss', 'may', 'look', 'bore', 'look', 'least', 'twice', 'definit', 'watch', 'part', '2', 'chang', 'view', 'matrix', 'human', 'peopl', 'one', 'start', 'war', 'ai', 'bad', 'thing']\n"
     ]
    }
   ],
   "source": [
    "from nltk.stem.porter import PorterStemmer\n",
    "\n",
    "# Reduce words to their stems\n",
    "stemmed = [PorterStemmer().stem(w) for w in words]\n",
    "print(stemmed)"
   ]
  },
  {
   "cell_type": "markdown",
   "metadata": {},
   "source": [
    "### Lemmatization"
   ]
  },
  {
   "cell_type": "code",
   "execution_count": 44,
   "metadata": {},
   "outputs": [
    {
     "name": "stdout",
     "output_type": "stream",
     "text": [
      "['first', 'time', 'see', 'second', 'renaissance', 'may', 'look', 'boring', 'look', 'least', 'twice', 'definitely', 'watch', 'part', '2', 'change', 'view', 'matrix', 'human', 'people', 'one', 'started', 'war', 'ai', 'bad', 'thing']\n"
     ]
    }
   ],
   "source": [
    "from nltk.stem.wordnet import WordNetLemmatizer\n",
    "\n",
    "# Reduce words to their root form\n",
    "lemmed = [WordNetLemmatizer().lemmatize(w) for w in words]\n",
    "print(lemmed)"
   ]
  },
  {
   "cell_type": "code",
   "execution_count": 45,
   "metadata": {},
   "outputs": [
    {
     "name": "stdout",
     "output_type": "stream",
     "text": [
      "['first', 'time', 'see', 'second', 'renaissance', 'may', 'look', 'bore', 'look', 'least', 'twice', 'definitely', 'watch', 'part', '2', 'change', 'view', 'matrix', 'human', 'people', 'one', 'start', 'war', 'ai', 'bad', 'thing']\n"
     ]
    }
   ],
   "source": [
    "# Lemmatize verbs by specifying pos\n",
    "lemmed = [WordNetLemmatizer().lemmatize(w, pos='v') for w in lemmed]\n",
    "print(lemmed)"
   ]
  },
  {
   "cell_type": "code",
   "execution_count": null,
   "metadata": {},
   "outputs": [],
   "source": []
  }
 ],
 "metadata": {
  "kernelspec": {
   "display_name": "Python 3",
   "language": "python",
   "name": "python3"
  },
  "language_info": {
   "codemirror_mode": {
    "name": "ipython",
    "version": 3
   },
   "file_extension": ".py",
   "mimetype": "text/x-python",
   "name": "python",
   "nbconvert_exporter": "python",
   "pygments_lexer": "ipython3",
   "version": "3.11.0"
  },
  "vscode": {
   "interpreter": {
    "hash": "949777d72b0d2535278d3dc13498b2535136f6dfe0678499012e853ee9abcab1"
   }
  }
 },
 "nbformat": 4,
 "nbformat_minor": 2
}
