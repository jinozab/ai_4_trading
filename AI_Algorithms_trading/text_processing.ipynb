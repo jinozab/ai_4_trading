{
 "cells": [
  {
   "cell_type": "markdown",
   "metadata": {},
   "source": [
    "# Text Processing\n",
    "\n",
    "## Capturing Text Data\n",
    "\n",
    "### Plain Text"
   ]
  },
  {
   "cell_type": "code",
   "execution_count": 1,
   "metadata": {},
   "outputs": [
    {
     "name": "stdout",
     "output_type": "stream",
     "text": [
      "Hieroglyphic writing dates from c. 3000 BC, and is composed of hundreds of symbols. A hieroglyph can represent a word, a sound, or a silent determinative; and the same symbol can serve different purposes in different contexts. Hieroglyphs were a formal script, used on stone monuments and in tombs, that could be as detailed as individual works of art.\n",
      "\n"
     ]
    }
   ],
   "source": [
    "import os\n",
    "\n",
    "# Read in a plain text file\n",
    "with open(os.path.join(\"data\", \"hieroglyph.txt\"), \"r\") as f:\n",
    "    text = f.read()\n",
    "    print(text)"
   ]
  },
  {
   "cell_type": "markdown",
   "metadata": {},
   "source": [
    "### Tabular Data"
   ]
  },
  {
   "cell_type": "code",
   "execution_count": 19,
   "metadata": {
    "scrolled": true
   },
   "outputs": [
    {
     "data": {
      "text/html": [
       "<div>\n",
       "<style scoped>\n",
       "    .dataframe tbody tr th:only-of-type {\n",
       "        vertical-align: middle;\n",
       "    }\n",
       "\n",
       "    .dataframe tbody tr th {\n",
       "        vertical-align: top;\n",
       "    }\n",
       "\n",
       "    .dataframe thead th {\n",
       "        text-align: right;\n",
       "    }\n",
       "</style>\n",
       "<table border=\"1\" class=\"dataframe\">\n",
       "  <thead>\n",
       "    <tr style=\"text-align: right;\">\n",
       "      <th></th>\n",
       "      <th>publisher</th>\n",
       "      <th>title</th>\n",
       "    </tr>\n",
       "  </thead>\n",
       "  <tbody>\n",
       "    <tr>\n",
       "      <th>0</th>\n",
       "      <td>Livemint</td>\n",
       "      <td>fed's charles plosser sees high bar for change...</td>\n",
       "    </tr>\n",
       "    <tr>\n",
       "      <th>1</th>\n",
       "      <td>IFA Magazine</td>\n",
       "      <td>us open: stocks fall after fed official hints ...</td>\n",
       "    </tr>\n",
       "    <tr>\n",
       "      <th>2</th>\n",
       "      <td>IFA Magazine</td>\n",
       "      <td>fed risks falling 'behind the curve', charles ...</td>\n",
       "    </tr>\n",
       "    <tr>\n",
       "      <th>3</th>\n",
       "      <td>Moneynews</td>\n",
       "      <td>fed's plosser: nasty weather has curbed job gr...</td>\n",
       "    </tr>\n",
       "    <tr>\n",
       "      <th>4</th>\n",
       "      <td>NASDAQ</td>\n",
       "      <td>plosser: fed may have to accelerate tapering pace</td>\n",
       "    </tr>\n",
       "  </tbody>\n",
       "</table>\n",
       "</div>"
      ],
      "text/plain": [
       "      publisher                                              title\n",
       "0      Livemint  fed's charles plosser sees high bar for change...\n",
       "1  IFA Magazine  us open: stocks fall after fed official hints ...\n",
       "2  IFA Magazine  fed risks falling 'behind the curve', charles ...\n",
       "3     Moneynews  fed's plosser: nasty weather has curbed job gr...\n",
       "4        NASDAQ  plosser: fed may have to accelerate tapering pace"
      ]
     },
     "execution_count": 19,
     "metadata": {},
     "output_type": "execute_result"
    }
   ],
   "source": [
    "import pandas as pd\n",
    "\n",
    "# Extract text column from a dataframe\n",
    "df = pd.read_csv(os.path.join(\"data\", \"news.csv\"))\n",
    "df.head()[['publisher', 'title']]\n",
    "\n",
    "# Convert text column to lowercase\n",
    "df['title'] = df['title'].str.lower()\n",
    "df.head()[['publisher', 'title']]"
   ]
  },
  {
   "cell_type": "markdown",
   "metadata": {},
   "source": [
    "### Online Resource"
   ]
  },
  {
   "cell_type": "code",
   "execution_count": 2,
   "metadata": {
    "scrolled": true
   },
   "outputs": [
    {
     "name": "stdout",
     "output_type": "stream",
     "text": [
      "{\n",
      "    \"success\": {\n",
      "        \"total\": 1\n",
      "    },\n",
      "    \"contents\": {\n",
      "        \"quotes\": [\n",
      "            {\n",
      "                \"quote\": \"Winning is nice if you don't lose your integrity in the process.\",\n",
      "                \"length\": \"64\",\n",
      "                \"author\": \"Arnold Horshak\",\n",
      "                \"tags\": [\n",
      "                    \"ethics\",\n",
      "                    \"inspire\",\n",
      "                    \"winning\"\n",
      "                ],\n",
      "                \"category\": \"inspire\",\n",
      "                \"language\": \"en\",\n",
      "                \"date\": \"2023-01-12\",\n",
      "                \"permalink\": \"https://theysaidso.com/quote/arnold-horshak-winning-is-nice-if-you-dont-lose-your-integrity-in-the-process\",\n",
      "                \"id\": \"ARN6aCBc3tAP_K5gPSyqUgeF\",\n",
      "                \"background\": \"https://theysaidso.com/img/qod/qod-inspire.jpg\",\n",
      "                \"title\": \"Inspiring Quote of the day\"\n",
      "            }\n",
      "        ]\n",
      "    },\n",
      "    \"baseurl\": \"https://theysaidso.com\",\n",
      "    \"copyright\": {\n",
      "        \"year\": 2025,\n",
      "        \"url\": \"https://theysaidso.com\"\n",
      "    }\n",
      "}\n",
      "Winning is nice if you don't lose your integrity in the process. \n",
      "-- Arnold Horshak\n"
     ]
    }
   ],
   "source": [
    "import requests\n",
    "import json\n",
    "\n",
    "# Fetch data from a REST API\n",
    "r = requests.get(\n",
    "    \"https://quotes.rest/qod.json\")\n",
    "res = r.json()\n",
    "print(json.dumps(res, indent=4))\n",
    "\n",
    "# Extract relevant object and field\n",
    "q = res[\"contents\"][\"quotes\"][0]\n",
    "print(q[\"quote\"], \"\\n--\", q[\"author\"])"
   ]
  },
  {
   "cell_type": "markdown",
   "metadata": {},
   "source": [
    "## Cleaning"
   ]
  },
  {
   "cell_type": "code",
   "execution_count": 3,
   "metadata": {
    "scrolled": true
   },
   "outputs": [
    {
     "name": "stdout",
     "output_type": "stream",
     "text": [
      "<html lang=\"en\" op=\"news\"><head><meta name=\"referrer\" content=\"origin\"><meta name=\"viewport\" content=\"width=device-width, initial-scale=1.0\"><link rel=\"stylesheet\" type=\"text/css\" href=\"news.css?dg5T5Lpjq1j3MOOs9hSj\">\n",
      "        <link rel=\"shortcut icon\" href=\"favicon.ico\">\n",
      "          <link rel=\"alternate\" type=\"application/rss+xml\" title=\"RSS\" href=\"rss\">\n",
      "        <title>Hacker News</title></head><body><center><table id=\"hnmain\" border=\"0\" cellpadding=\"0\" cellspacing=\"0\" width=\"85%\" bgcolor=\"#f6f6ef\">\n",
      "        <tr><td bgcolor=\"#ff6600\"><table border=\"0\" cellpadding=\"0\" cellspacing=\"0\" width=\"100%\" style=\"padding:2px\"><tr><td style=\"width:18px;padding-right:4px\"><a href=\"https://news.ycombinator.com\"><img src=\"y18.gif\" width=\"18\" height=\"18\" style=\"border:1px white solid;\"></a></td>\n",
      "                  <td style=\"line-height:12pt; height:10px;\"><span class=\"pagetop\"><b class=\"hnname\"><a href=\"news\">Hacker News</a></b>\n",
      "                            <a href=\"newest\">new</a> | <a href=\"front\">past</a> | <a href=\"newcomments\">comments</a> | <a href=\"ask\">ask</a> | <a href=\"show\">show</a> | <a href=\"jobs\">jobs</a> | <a href=\"submit\">submit</a>            </span></td><td style=\"text-align:right;padding-right:4px;\"><span class=\"pagetop\">\n",
      "                              <a href=\"login?goto=news\">login</a>\n",
      "                          </span></td>\n",
      "              </tr></table></td></tr>\n",
      "<tr id=\"pagespace\" title=\"\" style=\"height:10px\"></tr><tr><td><table border=\"0\" cellpadding=\"0\" cellspacing=\"0\">\n",
      "            <tr class='athing' id='34342871'>\n",
      "      <td align=\"right\" valign=\"top\" class=\"title\"><span class=\"rank\">1.</span></td>      <td valign=\"top\" class=\"votelinks\"><center><a id='up_34342871'href='vote?id=34342871&amp;how=up&amp;goto=news'><div class='votearrow' title='upvote'></div></a></center></td><td class=\"title\"><span class=\"titleline\"><a href=\"https://elkue.com/nyc-slice/\">NYC Slice</a><span class=\"sitebit comhead\"> (<a href=\"from?site=elkue.com\"><span class=\"sitestr\">elkue.com</span></a>)</span></span></td></tr><tr><td colspan=\"2\"></td><td class=\"subtext\"><span class=\"subline\">\n",
      "          <span class=\"score\" id=\"score_34342871\">529 points</span> by <a href=\"user?id=mbil\" class=\"hnuser\">mbil</a> <span class=\"age\" title=\"2023-01-11T19:00:54\"><a href=\"item?id=34342871\">10 hours ago</a></span> <span id=\"unv_34342871\"></span> | <a href=\"hide?id=34342871&amp;goto=news\">hide</a> | <a href=\"item?id=34342871\">431&nbsp;comments</a>        </span>\n",
      "              </td></tr>\n",
      "      <tr class=\"spacer\" style=\"height:5px\"></tr>\n",
      "                <tr class='athing' id='34348388'>\n",
      "      <td align=\"right\" valign=\"top\" class=\"title\"><span class=\"rank\">2.</span></td>      <td valign=\"top\" class=\"votelinks\"><center><a id='up_34348388'href='vote?id=34348388&amp;how=up&amp;goto=news'><div class='votearrow' title='upvote'></div></a></center></td><td class=\"title\"><span class=\"titleline\"><a href=\"https://www.cnn.com/travel/article/faa-ground-stop-causes/index.html\">A corrupt file led to the FAA ground stoppage – also found in backup system</a><span class=\"sitebit comhead\"> (<a href=\"from?site=cnn.com\"><span class=\"sitestr\">cnn.com</span></a>)</span></span></td></tr><tr><td colspan=\"2\"></td><td class=\"subtext\"><span class=\"subline\">\n",
      "          <span class=\"score\" id=\"score_34348388\">58 points</span> by <a href=\"user?id=bluedino\" class=\"hnuser\">bluedino</a> <span class=\"age\" title=\"2023-01-12T02:30:05\"><a href=\"item?id=34348388\">2 hours ago</a></span> <span id=\"unv_34348388\"></span> | <a href=\"hide?id=34348388&amp;goto=news\">hide</a> | <a href=\"item?id=34348388\">27&nbsp;comments</a>        </span>\n",
      "              </td></tr>\n",
      "      <tr class=\"spacer\" style=\"height:5px\"></tr>\n",
      "                <tr class='athing' id='34342013'>\n",
      "      <td align=\"right\" valign=\"top\" class=\"title\"><span class=\"rank\">3.</span></td>      <td valign=\"top\" class=\"votelinks\"><center><a id='up_34342013'href='vote?id=34342013&amp;how=up&amp;goto=news'><div class='votearrow' title='upvote'></div></a></center></td><td class=\"title\"><span class=\"titleline\"><a href=\"https://en.wikipedia.org/wiki/Tocharian_languages\">Tocharian Languages</a><span class=\"sitebit comhead\"> (<a href=\"from?site=wikipedia.org\"><span class=\"sitestr\">wikipedia.org</span></a>)</span></span></td></tr><tr><td colspan=\"2\"></td><td class=\"subtext\"><span class=\"subline\">\n",
      "          <span class=\"score\" id=\"score_34342013\">68 points</span> by <a href=\"user?id=fer\" class=\"hnuser\">fer</a> <span class=\"age\" title=\"2023-01-11T18:08:16\"><a href=\"item?id=34342013\">4 hours ago</a></span> <span id=\"unv_34342013\"></span> | <a href=\"hide?id=34342013&amp;goto=news\">hide</a> | <a href=\"item?id=34342013\">5&nbsp;comments</a>        </span>\n",
      "              </td></tr>\n",
      "      <tr class=\"spacer\" style=\"height:5px\"></tr>\n",
      "                <tr class='athing' id='34334061'>\n",
      "      <td align=\"right\" valign=\"top\" class=\"title\"><span class=\"rank\">4.</span></td>      <td valign=\"top\" class=\"votelinks\"><center><a id='up_34334061'href='vote?id=34334061&amp;how=up&amp;goto=news'><div class='votearrow' title='upvote'></div></a></center></td><td class=\"title\"><span class=\"titleline\"><a href=\"https://holokit.io/\">HoloKit relaunched, $129 AR Headset accessory for iPhone</a><span class=\"sitebit comhead\"> (<a href=\"from?site=holokit.io\"><span class=\"sitestr\">holokit.io</span></a>)</span></span></td></tr><tr><td colspan=\"2\"></td><td class=\"subtext\"><span class=\"subline\">\n",
      "          <span class=\"score\" id=\"score_34334061\">97 points</span> by <a href=\"user?id=pdnell\" class=\"hnuser\">pdnell</a> <span class=\"age\" title=\"2023-01-11T01:47:48\"><a href=\"item?id=34334061\">6 hours ago</a></span> <span id=\"unv_34334061\"></span> | <a href=\"hide?id=34334061&amp;goto=news\">hide</a> | <a href=\"item?id=34334061\">97&nbsp;comments</a>        </span>\n",
      "              </td></tr>\n",
      "      <tr class=\"spacer\" style=\"height:5px\"></tr>\n",
      "                <tr class='athing' id='34322303'>\n",
      "      <td align=\"right\" valign=\"top\" class=\"title\"><span class=\"rank\">5.</span></td>      <td valign=\"top\" class=\"votelinks\"><center><a id='up_34322303'href='vote?id=34322303&amp;how=up&amp;goto=news'><div class='votearrow' title='upvote'></div></a></center></td><td class=\"title\"><span class=\"titleline\"><a href=\"item?id=34322303\">Ask HN: What&#x27;s your favorite illustration in computer science?</a></span></td></tr><tr><td colspan=\"2\"></td><td class=\"subtext\"><span class=\"subline\">\n",
      "          <span class=\"score\" id=\"score_34322303\">246 points</span> by <a href=\"user?id=gnull\" class=\"hnuser\">gnull</a> <span class=\"age\" title=\"2023-01-10T09:20:02\"><a href=\"item?id=34322303\">9 hours ago</a></span> <span id=\"unv_34322303\"></span> | <a href=\"hide?id=34322303&amp;goto=news\">hide</a> | <a href=\"item?id=34322303\">193&nbsp;comments</a>        </span>\n",
      "              </td></tr>\n",
      "      <tr class=\"spacer\" style=\"height:5px\"></tr>\n",
      "                <tr class='athing' id='34346346'>\n",
      "      <td align=\"right\" valign=\"top\" class=\"title\"><span class=\"rank\">6.</span></td>      <td valign=\"top\" class=\"votelinks\"><center><a id='up_34346346'href='vote?id=34346346&amp;how=up&amp;goto=news'><div class='votearrow' title='upvote'></div></a></center></td><td class=\"title\"><span class=\"titleline\"><a href=\"https://blog.packagecloud.io/set-environment-variable-save-thousands-of-system-calls/\">Setting the TZ environment variable avoids thousands of system calls (2017)</a><span class=\"sitebit comhead\"> (<a href=\"from?site=packagecloud.io\"><span class=\"sitestr\">packagecloud.io</span></a>)</span></span></td></tr><tr><td colspan=\"2\"></td><td class=\"subtext\"><span class=\"subline\">\n",
      "          <span class=\"score\" id=\"score_34346346\">93 points</span> by <a href=\"user?id=zdw\" class=\"hnuser\">zdw</a> <span class=\"age\" title=\"2023-01-11T23:02:21\"><a href=\"item?id=34346346\">6 hours ago</a></span> <span id=\"unv_34346346\"></span> | <a href=\"hide?id=34346346&amp;goto=news\">hide</a> | <a href=\"item?id=34346346\">16&nbsp;comments</a>        </span>\n",
      "              </td></tr>\n",
      "      <tr class=\"spacer\" style=\"height:5px\"></tr>\n",
      "                <tr class='athing' id='34322130'>\n",
      "      <td align=\"right\" valign=\"top\" class=\"title\"><span class=\"rank\">7.</span></td>      <td valign=\"top\" class=\"votelinks\"><center><a id='up_34322130'href='vote?id=34322130&amp;how=up&amp;goto=news'><div class='votearrow' title='upvote'></div></a></center></td><td class=\"title\"><span class=\"titleline\"><a href=\"https://brianmckenna.org/blog/architecture_code\">Architecture diagrams should be code</a><span class=\"sitebit comhead\"> (<a href=\"from?site=brianmckenna.org\"><span class=\"sitestr\">brianmckenna.org</span></a>)</span></span></td></tr><tr><td colspan=\"2\"></td><td class=\"subtext\"><span class=\"subline\">\n",
      "          <span class=\"score\" id=\"score_34322130\">183 points</span> by <a href=\"user?id=todsacerdoti\" class=\"hnuser\">todsacerdoti</a> <span class=\"age\" title=\"2023-01-10T08:51:34\"><a href=\"item?id=34322130\">8 hours ago</a></span> <span id=\"unv_34322130\"></span> | <a href=\"hide?id=34322130&amp;goto=news\">hide</a> | <a href=\"item?id=34322130\">106&nbsp;comments</a>        </span>\n",
      "              </td></tr>\n",
      "      <tr class=\"spacer\" style=\"height:5px\"></tr>\n",
      "                <tr class='athing' id='34344514'>\n",
      "      <td align=\"right\" valign=\"top\" class=\"title\"><span class=\"rank\">8.</span></td>      <td valign=\"top\" class=\"votelinks\"><center><a id='up_34344514'href='vote?id=34344514&amp;how=up&amp;goto=news'><div class='votearrow' title='upvote'></div></a></center></td><td class=\"title\"><span class=\"titleline\"><a href=\"https://github.com/sourcegraph/conc\">Conc: Better Structured Concurrency for Go</a><span class=\"sitebit comhead\"> (<a href=\"from?site=github.com/sourcegraph\"><span class=\"sitestr\">github.com/sourcegraph</span></a>)</span></span></td></tr><tr><td colspan=\"2\"></td><td class=\"subtext\"><span class=\"subline\">\n",
      "          <span class=\"score\" id=\"score_34344514\">180 points</span> by <a href=\"user?id=aurame420\" class=\"hnuser\">aurame420</a> <span class=\"age\" title=\"2023-01-11T20:48:53\"><a href=\"item?id=34344514\">8 hours ago</a></span> <span id=\"unv_34344514\"></span> | <a href=\"hide?id=34344514&amp;goto=news\">hide</a> | <a href=\"item?id=34344514\">87&nbsp;comments</a>        </span>\n",
      "              </td></tr>\n",
      "      <tr class=\"spacer\" style=\"height:5px\"></tr>\n",
      "                <tr class='athing' id='34346411'>\n",
      "      <td align=\"right\" valign=\"top\" class=\"title\"><span class=\"rank\">9.</span></td>      <td valign=\"top\" class=\"votelinks\"><center><a id='up_34346411'href='vote?id=34346411&amp;how=up&amp;goto=news'><div class='votearrow' title='upvote'></div></a></center></td><td class=\"title\"><span class=\"titleline\"><a href=\"https://misfra.me/2023/ctes-as-lookup-tables/\">CTEs as lookup tables</a><span class=\"sitebit comhead\"> (<a href=\"from?site=misfra.me\"><span class=\"sitestr\">misfra.me</span></a>)</span></span></td></tr><tr><td colspan=\"2\"></td><td class=\"subtext\"><span class=\"subline\">\n",
      "          <span class=\"score\" id=\"score_34346411\">104 points</span> by <a href=\"user?id=preetamjinka\" class=\"hnuser\">preetamjinka</a> <span class=\"age\" title=\"2023-01-11T23:07:49\"><a href=\"item?id=34346411\">6 hours ago</a></span> <span id=\"unv_34346411\"></span> | <a href=\"hide?id=34346411&amp;goto=news\">hide</a> | <a href=\"item?id=34346411\">66&nbsp;comments</a>        </span>\n",
      "              </td></tr>\n",
      "      <tr class=\"spacer\" style=\"height:5px\"></tr>\n",
      "                <tr class='athing' id='34343122'>\n",
      "      <td align=\"right\" valign=\"top\" class=\"title\"><span class=\"rank\">10.</span></td>      <td valign=\"top\" class=\"votelinks\"><center><a id='up_34343122'href='vote?id=34343122&amp;how=up&amp;goto=news'><div class='votearrow' title='upvote'></div></a></center></td><td class=\"title\"><span class=\"titleline\"><a href=\"https://www.val.town/\">Show HN: Val Town – A Cloud Scripting Site</a><span class=\"sitebit comhead\"> (<a href=\"from?site=val.town\"><span class=\"sitestr\">val.town</span></a>)</span></span></td></tr><tr><td colspan=\"2\"></td><td class=\"subtext\"><span class=\"subline\">\n",
      "          <span class=\"score\" id=\"score_34343122\">229 points</span> by <a href=\"user?id=stevekrouse\" class=\"hnuser\">stevekrouse</a> <span class=\"age\" title=\"2023-01-11T19:18:28\"><a href=\"item?id=34343122\">9 hours ago</a></span> <span id=\"unv_34343122\"></span> | <a href=\"hide?id=34343122&amp;goto=news\">hide</a> | <a href=\"item?id=34343122\">60&nbsp;comments</a>        </span>\n",
      "              </td></tr>\n",
      "      <tr class=\"spacer\" style=\"height:5px\"></tr>\n",
      "                <tr class='athing' id='34339153'>\n",
      "      <td align=\"right\" valign=\"top\" class=\"title\"><span class=\"rank\">11.</span></td>      <td valign=\"top\" class=\"votelinks\"><center><a id='up_34339153'href='vote?id=34339153&amp;how=up&amp;goto=news'><div class='votearrow' title='upvote'></div></a></center></td><td class=\"title\"><span class=\"titleline\"><a href=\"https://www.infoq.com/news/2022/12/apple-swift-foundation-rewrite/\">Apple announces full Swift rewrite of the Foundation framework (2022)</a><span class=\"sitebit comhead\"> (<a href=\"from?site=infoq.com\"><span class=\"sitestr\">infoq.com</span></a>)</span></span></td></tr><tr><td colspan=\"2\"></td><td class=\"subtext\"><span class=\"subline\">\n",
      "          <span class=\"score\" id=\"score_34339153\">362 points</span> by <a href=\"user?id=frizlab\" class=\"hnuser\">frizlab</a> <span class=\"age\" title=\"2023-01-11T15:01:11\"><a href=\"item?id=34339153\">14 hours ago</a></span> <span id=\"unv_34339153\"></span> | <a href=\"hide?id=34339153&amp;goto=news\">hide</a> | <a href=\"item?id=34339153\">238&nbsp;comments</a>        </span>\n",
      "              </td></tr>\n",
      "      <tr class=\"spacer\" style=\"height:5px\"></tr>\n",
      "                <tr class='athing' id='34338629'>\n",
      "      <td align=\"right\" valign=\"top\" class=\"title\"><span class=\"rank\">12.</span></td>      <td valign=\"top\" class=\"votelinks\"><center><a id='up_34338629'href='vote?id=34338629&amp;how=up&amp;goto=news'><div class='votearrow' title='upvote'></div></a></center></td><td class=\"title\"><span class=\"titleline\"><a href=\"https://store.steampowered.com/app/1261430/Kandria/\">Show HN: Kandria, an action RPG made in Common Lisp, is now out</a><span class=\"sitebit comhead\"> (<a href=\"from?site=steampowered.com\"><span class=\"sitestr\">steampowered.com</span></a>)</span></span></td></tr><tr><td colspan=\"2\"></td><td class=\"subtext\"><span class=\"subline\">\n",
      "          <span class=\"score\" id=\"score_34338629\">395 points</span> by <a href=\"user?id=Shinmera\" class=\"hnuser\">Shinmera</a> <span class=\"age\" title=\"2023-01-11T14:09:54\"><a href=\"item?id=34338629\">14 hours ago</a></span> <span id=\"unv_34338629\"></span> | <a href=\"hide?id=34338629&amp;goto=news\">hide</a> | <a href=\"item?id=34338629\">110&nbsp;comments</a>        </span>\n",
      "              </td></tr>\n",
      "      <tr class=\"spacer\" style=\"height:5px\"></tr>\n",
      "                <tr class='athing' id='34339459'>\n",
      "      <td align=\"right\" valign=\"top\" class=\"title\"><span class=\"rank\">13.</span></td>      <td valign=\"top\" class=\"votelinks\"><center><a id='up_34339459'href='vote?id=34339459&amp;how=up&amp;goto=news'><div class='votearrow' title='upvote'></div></a></center></td><td class=\"title\"><span class=\"titleline\"><a href=\"https://lcamtuf.coredump.cx/gcnc/\">Guerrilla guide to CNC machining, mold making, and resin casting (2015)</a><span class=\"sitebit comhead\"> (<a href=\"from?site=coredump.cx\"><span class=\"sitestr\">coredump.cx</span></a>)</span></span></td></tr><tr><td colspan=\"2\"></td><td class=\"subtext\"><span class=\"subline\">\n",
      "          <span class=\"score\" id=\"score_34339459\">322 points</span> by <a href=\"user?id=Tomte\" class=\"hnuser\">Tomte</a> <span class=\"age\" title=\"2023-01-11T15:26:42\"><a href=\"item?id=34339459\">13 hours ago</a></span> <span id=\"unv_34339459\"></span> | <a href=\"hide?id=34339459&amp;goto=news\">hide</a> | <a href=\"item?id=34339459\">131&nbsp;comments</a>        </span>\n",
      "              </td></tr>\n",
      "      <tr class=\"spacer\" style=\"height:5px\"></tr>\n",
      "                <tr class='athing' id='34344412'>\n",
      "      <td align=\"right\" valign=\"top\" class=\"title\"><span class=\"rank\">14.</span></td>      <td valign=\"top\" class=\"votelinks\"><center><a id='up_34344412'href='vote?id=34344412&amp;how=up&amp;goto=news'><div class='votearrow' title='upvote'></div></a></center></td><td class=\"title\"><span class=\"titleline\"><a href=\"https://github.com/toblotron/praxis-ide\">An online IDE for visual programming in Prolog</a><span class=\"sitebit comhead\"> (<a href=\"from?site=github.com/toblotron\"><span class=\"sitestr\">github.com/toblotron</span></a>)</span></span></td></tr><tr><td colspan=\"2\"></td><td class=\"subtext\"><span class=\"subline\">\n",
      "          <span class=\"score\" id=\"score_34344412\">116 points</span> by <a href=\"user?id=triska\" class=\"hnuser\">triska</a> <span class=\"age\" title=\"2023-01-11T20:41:56\"><a href=\"item?id=34344412\">8 hours ago</a></span> <span id=\"unv_34344412\"></span> | <a href=\"hide?id=34344412&amp;goto=news\">hide</a> | <a href=\"item?id=34344412\">12&nbsp;comments</a>        </span>\n",
      "              </td></tr>\n",
      "      <tr class=\"spacer\" style=\"height:5px\"></tr>\n",
      "                <tr class='athing' id='34342255'>\n",
      "      <td align=\"right\" valign=\"top\" class=\"title\"><span class=\"rank\">15.</span></td>      <td valign=\"top\" class=\"votelinks\"><center><a id='up_34342255'href='vote?id=34342255&amp;how=up&amp;goto=news'><div class='votearrow' title='upvote'></div></a></center></td><td class=\"title\"><span class=\"titleline\"><a href=\"https://github.com/DesktopECHO/T95-H616-Malware\">T95 Allwinner T616 Malware Analysis</a><span class=\"sitebit comhead\"> (<a href=\"from?site=github.com/desktopecho\"><span class=\"sitestr\">github.com/desktopecho</span></a>)</span></span></td></tr><tr><td colspan=\"2\"></td><td class=\"subtext\"><span class=\"subline\">\n",
      "          <span class=\"score\" id=\"score_34342255\">176 points</span> by <a href=\"user?id=DesktopECHO\" class=\"hnuser\">DesktopECHO</a> <span class=\"age\" title=\"2023-01-11T18:22:52\"><a href=\"item?id=34342255\">10 hours ago</a></span> <span id=\"unv_34342255\"></span> | <a href=\"hide?id=34342255&amp;goto=news\">hide</a> | <a href=\"item?id=34342255\">55&nbsp;comments</a>        </span>\n",
      "              </td></tr>\n",
      "      <tr class=\"spacer\" style=\"height:5px\"></tr>\n",
      "                <tr class='athing' id='34343712'>\n",
      "      <td align=\"right\" valign=\"top\" class=\"title\"><span class=\"rank\">16.</span></td>      <td valign=\"top\" class=\"votelinks\"><center><a id='up_34343712'href='vote?id=34343712&amp;how=up&amp;goto=news'><div class='votearrow' title='upvote'></div></a></center></td><td class=\"title\"><span class=\"titleline\"><a href=\"http://uu.diva-portal.org/smash/record.jsf?pid=diva2%3A1721987&amp;dswid=-4818\">&#x27;Oumuamua: An analysis of the debate regarding the first interstellar visitor</a><span class=\"sitebit comhead\"> (<a href=\"from?site=diva-portal.org\"><span class=\"sitestr\">diva-portal.org</span></a>)</span></span></td></tr><tr><td colspan=\"2\"></td><td class=\"subtext\"><span class=\"subline\">\n",
      "          <span class=\"score\" id=\"score_34343712\">118 points</span> by <a href=\"user?id=Breadmaker\" class=\"hnuser\">Breadmaker</a> <span class=\"age\" title=\"2023-01-11T19:55:25\"><a href=\"item?id=34343712\">9 hours ago</a></span> <span id=\"unv_34343712\"></span> | <a href=\"hide?id=34343712&amp;goto=news\">hide</a> | <a href=\"item?id=34343712\">219&nbsp;comments</a>        </span>\n",
      "              </td></tr>\n",
      "      <tr class=\"spacer\" style=\"height:5px\"></tr>\n",
      "                <tr class='athing' id='34340443'>\n",
      "      <td align=\"right\" valign=\"top\" class=\"title\"><span class=\"rank\">17.</span></td>      <td valign=\"top\" class=\"votelinks\"><center><a id='up_34340443'href='vote?id=34340443&amp;how=up&amp;goto=news'><div class='votearrow' title='upvote'></div></a></center></td><td class=\"title\"><span class=\"titleline\"><a href=\"https://www.beautifulpublicdata.com/the-style-guide-for-americas-highways-mutcd/\">The Style Guide for America’s Highways</a><span class=\"sitebit comhead\"> (<a href=\"from?site=beautifulpublicdata.com\"><span class=\"sitestr\">beautifulpublicdata.com</span></a>)</span></span></td></tr><tr><td colspan=\"2\"></td><td class=\"subtext\"><span class=\"subline\">\n",
      "          <span class=\"score\" id=\"score_34340443\">159 points</span> by <a href=\"user?id=jonathanmkeegan\" class=\"hnuser\">jonathanmkeegan</a> <span class=\"age\" title=\"2023-01-11T16:38:30\"><a href=\"item?id=34340443\">12 hours ago</a></span> <span id=\"unv_34340443\"></span> | <a href=\"hide?id=34340443&amp;goto=news\">hide</a> | <a href=\"item?id=34340443\">81&nbsp;comments</a>        </span>\n",
      "              </td></tr>\n",
      "      <tr class=\"spacer\" style=\"height:5px\"></tr>\n",
      "                <tr class='athing' id='34338995'>\n",
      "      <td align=\"right\" valign=\"top\" class=\"title\"><span class=\"rank\">18.</span></td>      <td valign=\"top\" class=\"votelinks\"><center><a id='up_34338995'href='vote?id=34338995&amp;how=up&amp;goto=news'><div class='votearrow' title='upvote'></div></a></center></td><td class=\"title\"><span class=\"titleline\"><a href=\"item?id=34338995\">Launch HN: IcePanel (YC W23) – Onboard engineers with explorable system designs</a></span></td></tr><tr><td colspan=\"2\"></td><td class=\"subtext\"><span class=\"subline\">\n",
      "          <span class=\"score\" id=\"score_34338995\">99 points</span> by <a href=\"user?id=JacobShadbolt\" class=\"hnuser\">JacobShadbolt</a> <span class=\"age\" title=\"2023-01-11T14:46:54\"><a href=\"item?id=34338995\">11 hours ago</a></span> <span id=\"unv_34338995\"></span> | <a href=\"hide?id=34338995&amp;goto=news\">hide</a> | <a href=\"item?id=34338995\">68&nbsp;comments</a>        </span>\n",
      "              </td></tr>\n",
      "      <tr class=\"spacer\" style=\"height:5px\"></tr>\n",
      "                <tr class='athing' id='34347778'>\n",
      "      <td align=\"right\" valign=\"top\" class=\"title\"><span class=\"rank\">19.</span></td>      <td valign=\"top\" class=\"votelinks\"><center><a id='up_34347778'href='vote?id=34347778&amp;how=up&amp;goto=news'><div class='votearrow' title='upvote'></div></a></center></td><td class=\"title\"><span class=\"titleline\"><a href=\"https://www.theautopian.com/newly-released-video-of-thanksgiving-day-tesla-full-self-driving-crash-demonstrates-the-fundamental-problem-of-semi-automated-driving-systems/\">New video of Tesla crash demonstrates the problem of semi-automated driving</a><span class=\"sitebit comhead\"> (<a href=\"from?site=theautopian.com\"><span class=\"sitestr\">theautopian.com</span></a>)</span></span></td></tr><tr><td colspan=\"2\"></td><td class=\"subtext\"><span class=\"subline\">\n",
      "          <span class=\"score\" id=\"score_34347778\">104 points</span> by <a href=\"user?id=frxx\" class=\"hnuser\">frxx</a> <span class=\"age\" title=\"2023-01-12T01:19:40\"><a href=\"item?id=34347778\">3 hours ago</a></span> <span id=\"unv_34347778\"></span> | <a href=\"hide?id=34347778&amp;goto=news\">hide</a> | <a href=\"item?id=34347778\">207&nbsp;comments</a>        </span>\n",
      "              </td></tr>\n",
      "      <tr class=\"spacer\" style=\"height:5px\"></tr>\n",
      "                <tr class='athing' id='34345641'>\n",
      "      <td align=\"right\" valign=\"top\" class=\"title\"><span class=\"rank\">20.</span></td>      <td><img src=\"s.gif\" height=\"1\" width=\"14\"></td>       <td class=\"title\"><span class=\"titleline\"><a href=\"https://etleap.com/careers/software-engineer/\" rel=\"nofollow\">Etleap (YC W13) is hiring a software engineer (London)</a><span class=\"sitebit comhead\"> (<a href=\"from?site=etleap.com\"><span class=\"sitestr\">etleap.com</span></a>)</span></span></td></tr><tr><td colspan=\"2\"></td><td class=\"subtext\">\n",
      "        <span class=\"age\" title=\"2023-01-11T22:03:40\"><a href=\"item?id=34345641\">7 hours ago</a></span> | <a href=\"hide?id=34345641&amp;goto=news\">hide</a>      </td></tr>\n",
      "      <tr class=\"spacer\" style=\"height:5px\"></tr>\n",
      "                <tr class='athing' id='34348720'>\n",
      "      <td align=\"right\" valign=\"top\" class=\"title\"><span class=\"rank\">21.</span></td>      <td valign=\"top\" class=\"votelinks\"><center><a id='up_34348720'href='vote?id=34348720&amp;how=up&amp;goto=news'><div class='votearrow' title='upvote'></div></a></center></td><td class=\"title\"><span class=\"titleline\"><a href=\"https://www.npr.org/2023/01/11/1125205641/amazon-warehouse-union-staten-island\">Amazon loses bid to overturn historic union win on Staten Island warehouse</a><span class=\"sitebit comhead\"> (<a href=\"from?site=npr.org\"><span class=\"sitestr\">npr.org</span></a>)</span></span></td></tr><tr><td colspan=\"2\"></td><td class=\"subtext\"><span class=\"subline\">\n",
      "          <span class=\"score\" id=\"score_34348720\">38 points</span> by <a href=\"user?id=ceejayoz\" class=\"hnuser\">ceejayoz</a> <span class=\"age\" title=\"2023-01-12T03:16:04\"><a href=\"item?id=34348720\">1 hour ago</a></span> <span id=\"unv_34348720\"></span> | <a href=\"hide?id=34348720&amp;goto=news\">hide</a> | <a href=\"item?id=34348720\">3&nbsp;comments</a>        </span>\n",
      "              </td></tr>\n",
      "      <tr class=\"spacer\" style=\"height:5px\"></tr>\n",
      "                <tr class='athing' id='34335821'>\n",
      "      <td align=\"right\" valign=\"top\" class=\"title\"><span class=\"rank\">22.</span></td>      <td valign=\"top\" class=\"votelinks\"><center><a id='up_34335821'href='vote?id=34335821&amp;how=up&amp;goto=news'><div class='votearrow' title='upvote'></div></a></center></td><td class=\"title\"><span class=\"titleline\"><a href=\"https://lowtechguys.com/grila/\">Show HN: Grila – Calendar for keyboard addicts, always one keypress away</a><span class=\"sitebit comhead\"> (<a href=\"from?site=lowtechguys.com\"><span class=\"sitestr\">lowtechguys.com</span></a>)</span></span></td></tr><tr><td colspan=\"2\"></td><td class=\"subtext\"><span class=\"subline\">\n",
      "          <span class=\"score\" id=\"score_34335821\">61 points</span> by <a href=\"user?id=alin23\" class=\"hnuser\">alin23</a> <span class=\"age\" title=\"2023-01-11T06:49:18\"><a href=\"item?id=34335821\">6 hours ago</a></span> <span id=\"unv_34335821\"></span> | <a href=\"hide?id=34335821&amp;goto=news\">hide</a> | <a href=\"item?id=34335821\">14&nbsp;comments</a>        </span>\n",
      "              </td></tr>\n",
      "      <tr class=\"spacer\" style=\"height:5px\"></tr>\n",
      "                <tr class='athing' id='34348496'>\n",
      "      <td align=\"right\" valign=\"top\" class=\"title\"><span class=\"rank\">23.</span></td>      <td valign=\"top\" class=\"votelinks\"><center><a id='up_34348496'href='vote?id=34348496&amp;how=up&amp;goto=news'><div class='votearrow' title='upvote'></div></a></center></td><td class=\"title\"><span class=\"titleline\"><a href=\"https://philosophyinhell.substack.com/p/the-systematic-valley\">The Systematic Valley</a><span class=\"sitebit comhead\"> (<a href=\"from?site=philosophyinhell.substack.com\"><span class=\"sitestr\">philosophyinhell.substack.com</span></a>)</span></span></td></tr><tr><td colspan=\"2\"></td><td class=\"subtext\"><span class=\"subline\">\n",
      "          <span class=\"score\" id=\"score_34348496\">8 points</span> by <a href=\"user?id=exolymph\" class=\"hnuser\">exolymph</a> <span class=\"age\" title=\"2023-01-12T02:45:27\"><a href=\"item?id=34348496\">2 hours ago</a></span> <span id=\"unv_34348496\"></span> | <a href=\"hide?id=34348496&amp;goto=news\">hide</a> | <a href=\"item?id=34348496\">discuss</a>        </span>\n",
      "              </td></tr>\n",
      "      <tr class=\"spacer\" style=\"height:5px\"></tr>\n",
      "                <tr class='athing' id='34344009'>\n",
      "      <td align=\"right\" valign=\"top\" class=\"title\"><span class=\"rank\">24.</span></td>      <td valign=\"top\" class=\"votelinks\"><center><a id='up_34344009'href='vote?id=34344009&amp;how=up&amp;goto=news'><div class='votearrow' title='upvote'></div></a></center></td><td class=\"title\"><span class=\"titleline\"><a href=\"https://theloadstar.com/flexport-slashes-20-of-global-workforce-over-weak-2023-volume-forecast/\">Flexport slashes 20% of global workforce over weak 2023 volume forecast</a><span class=\"sitebit comhead\"> (<a href=\"from?site=theloadstar.com\"><span class=\"sitestr\">theloadstar.com</span></a>)</span></span></td></tr><tr><td colspan=\"2\"></td><td class=\"subtext\"><span class=\"subline\">\n",
      "          <span class=\"score\" id=\"score_34344009\">168 points</span> by <a href=\"user?id=drone\" class=\"hnuser\">drone</a> <span class=\"age\" title=\"2023-01-11T20:17:04\"><a href=\"item?id=34344009\">8 hours ago</a></span> <span id=\"unv_34344009\"></span> | <a href=\"hide?id=34344009&amp;goto=news\">hide</a> | <a href=\"item?id=34344009\">206&nbsp;comments</a>        </span>\n",
      "              </td></tr>\n",
      "      <tr class=\"spacer\" style=\"height:5px\"></tr>\n",
      "                <tr class='athing' id='34344243'>\n",
      "      <td align=\"right\" valign=\"top\" class=\"title\"><span class=\"rank\">25.</span></td>      <td valign=\"top\" class=\"votelinks\"><center><a id='up_34344243'href='vote?id=34344243&amp;how=up&amp;goto=news'><div class='votearrow' title='upvote'></div></a></center></td><td class=\"title\"><span class=\"titleline\"><a href=\"https://replicate.com/andreasjansson/cantable-diffuguesion\">Cantable Diffuguesion: Bach chorale generation and harmonization</a><span class=\"sitebit comhead\"> (<a href=\"from?site=replicate.com\"><span class=\"sitestr\">replicate.com</span></a>)</span></span></td></tr><tr><td colspan=\"2\"></td><td class=\"subtext\"><span class=\"subline\">\n",
      "          <span class=\"score\" id=\"score_34344243\">53 points</span> by <a href=\"user?id=fagerhult\" class=\"hnuser\">fagerhult</a> <span class=\"age\" title=\"2023-01-11T20:31:51\"><a href=\"item?id=34344243\">8 hours ago</a></span> <span id=\"unv_34344243\"></span> | <a href=\"hide?id=34344243&amp;goto=news\">hide</a> | <a href=\"item?id=34344243\">8&nbsp;comments</a>        </span>\n",
      "              </td></tr>\n",
      "      <tr class=\"spacer\" style=\"height:5px\"></tr>\n",
      "                <tr class='athing' id='34339752'>\n",
      "      <td align=\"right\" valign=\"top\" class=\"title\"><span class=\"rank\">26.</span></td>      <td valign=\"top\" class=\"votelinks\"><center><a id='up_34339752'href='vote?id=34339752&amp;how=up&amp;goto=news'><div class='votearrow' title='upvote'></div></a></center></td><td class=\"title\"><span class=\"titleline\"><a href=\"https://www.starfivetech.com/en/site/new_details/976\">RISC-V SBC VisionFive 2 Officially Shipped</a><span class=\"sitebit comhead\"> (<a href=\"from?site=starfivetech.com\"><span class=\"sitestr\">starfivetech.com</span></a>)</span></span></td></tr><tr><td colspan=\"2\"></td><td class=\"subtext\"><span class=\"subline\">\n",
      "          <span class=\"score\" id=\"score_34339752\">123 points</span> by <a href=\"user?id=britneybitch\" class=\"hnuser\">britneybitch</a> <span class=\"age\" title=\"2023-01-11T15:48:50\"><a href=\"item?id=34339752\">13 hours ago</a></span> <span id=\"unv_34339752\"></span> | <a href=\"hide?id=34339752&amp;goto=news\">hide</a> | <a href=\"item?id=34339752\">74&nbsp;comments</a>        </span>\n",
      "              </td></tr>\n",
      "      <tr class=\"spacer\" style=\"height:5px\"></tr>\n",
      "                <tr class='athing' id='34323247'>\n",
      "      <td align=\"right\" valign=\"top\" class=\"title\"><span class=\"rank\">27.</span></td>      <td valign=\"top\" class=\"votelinks\"><center><a id='up_34323247'href='vote?id=34323247&amp;how=up&amp;goto=news'><div class='votearrow' title='upvote'></div></a></center></td><td class=\"title\"><span class=\"titleline\"><a href=\"https://github.com/ToolJet/ToolJet/releases/tag/v2.0.0\">Show HN: ToolJet 2.0 – Open-source alternative to Power Apps and Retool</a><span class=\"sitebit comhead\"> (<a href=\"from?site=github.com/tooljet\"><span class=\"sitestr\">github.com/tooljet</span></a>)</span></span></td></tr><tr><td colspan=\"2\"></td><td class=\"subtext\"><span class=\"subline\">\n",
      "          <span class=\"score\" id=\"score_34323247\">173 points</span> by <a href=\"user?id=navaneethpk\" class=\"hnuser\">navaneethpk</a> <span class=\"age\" title=\"2023-01-10T11:33:18\"><a href=\"item?id=34323247\">12 hours ago</a></span> <span id=\"unv_34323247\"></span> | <a href=\"hide?id=34323247&amp;goto=news\">hide</a> | <a href=\"item?id=34323247\">38&nbsp;comments</a>        </span>\n",
      "              </td></tr>\n",
      "      <tr class=\"spacer\" style=\"height:5px\"></tr>\n",
      "                <tr class='athing' id='34318169'>\n",
      "      <td align=\"right\" valign=\"top\" class=\"title\"><span class=\"rank\">28.</span></td>      <td valign=\"top\" class=\"votelinks\"><center><a id='up_34318169'href='vote?id=34318169&amp;how=up&amp;goto=news'><div class='votearrow' title='upvote'></div></a></center></td><td class=\"title\"><span class=\"titleline\"><a href=\"https://www.theparisreview.org/blog/2023/01/05/the-written-world-and-the-unwritten-world/\">The written world and the unwritten world</a><span class=\"sitebit comhead\"> (<a href=\"from?site=theparisreview.org\"><span class=\"sitestr\">theparisreview.org</span></a>)</span></span></td></tr><tr><td colspan=\"2\"></td><td class=\"subtext\"><span class=\"subline\">\n",
      "          <span class=\"score\" id=\"score_34318169\">11 points</span> by <a href=\"user?id=Caiero\" class=\"hnuser\">Caiero</a> <span class=\"age\" title=\"2023-01-09T23:43:34\"><a href=\"item?id=34318169\">3 hours ago</a></span> <span id=\"unv_34318169\"></span> | <a href=\"hide?id=34318169&amp;goto=news\">hide</a> | <a href=\"item?id=34318169\">2&nbsp;comments</a>        </span>\n",
      "              </td></tr>\n",
      "      <tr class=\"spacer\" style=\"height:5px\"></tr>\n",
      "                <tr class='athing' id='34345449'>\n",
      "      <td align=\"right\" valign=\"top\" class=\"title\"><span class=\"rank\">29.</span></td>      <td valign=\"top\" class=\"votelinks\"><center><a id='up_34345449'href='vote?id=34345449&amp;how=up&amp;goto=news'><div class='votearrow' title='upvote'></div></a></center></td><td class=\"title\"><span class=\"titleline\"><a href=\"https://www.jeffgeerling.com/blog/2023/how-many-amd-rx-7900-xtxs-are-defective\">How many AMD RX 7900 XTX&#x27;s are defective?</a><span class=\"sitebit comhead\"> (<a href=\"from?site=jeffgeerling.com\"><span class=\"sitestr\">jeffgeerling.com</span></a>)</span></span></td></tr><tr><td colspan=\"2\"></td><td class=\"subtext\"><span class=\"subline\">\n",
      "          <span class=\"score\" id=\"score_34345449\">133 points</span> by <a href=\"user?id=ingve\" class=\"hnuser\">ingve</a> <span class=\"age\" title=\"2023-01-11T21:50:35\"><a href=\"item?id=34345449\">7 hours ago</a></span> <span id=\"unv_34345449\"></span> | <a href=\"hide?id=34345449&amp;goto=news\">hide</a> | <a href=\"item?id=34345449\">98&nbsp;comments</a>        </span>\n",
      "              </td></tr>\n",
      "      <tr class=\"spacer\" style=\"height:5px\"></tr>\n",
      "                <tr class='athing' id='34343113'>\n",
      "      <td align=\"right\" valign=\"top\" class=\"title\"><span class=\"rank\">30.</span></td>      <td valign=\"top\" class=\"votelinks\"><center><a id='up_34343113'href='vote?id=34343113&amp;how=up&amp;goto=news'><div class='votearrow' title='upvote'></div></a></center></td><td class=\"title\"><span class=\"titleline\"><a href=\"https://a16z.com/2023/01/11/market-annealing/\">Market Annealing: Getting to $10M ARR in Early Markets</a><span class=\"sitebit comhead\"> (<a href=\"from?site=a16z.com\"><span class=\"sitestr\">a16z.com</span></a>)</span></span></td></tr><tr><td colspan=\"2\"></td><td class=\"subtext\"><span class=\"subline\">\n",
      "          <span class=\"score\" id=\"score_34343113\">82 points</span> by <a href=\"user?id=yarapavan\" class=\"hnuser\">yarapavan</a> <span class=\"age\" title=\"2023-01-11T19:17:44\"><a href=\"item?id=34343113\">9 hours ago</a></span> <span id=\"unv_34343113\"></span> | <a href=\"hide?id=34343113&amp;goto=news\">hide</a> | <a href=\"item?id=34343113\">4&nbsp;comments</a>        </span>\n",
      "              </td></tr>\n",
      "      <tr class=\"spacer\" style=\"height:5px\"></tr>\n",
      "            <tr class=\"morespace\" style=\"height:10px\"></tr><tr><td colspan=\"2\"></td>\n",
      "      <td class='title'><a href='?p=2' class='morelink' rel='next'>More</a></td>    </tr>\n",
      "  </table>\n",
      "</td></tr>\n",
      "<tr><td><img src=\"s.gif\" height=\"10\" width=\"0\"><table width=\"100%\" cellspacing=\"0\" cellpadding=\"1\"><tr><td bgcolor=\"#ff6600\"></td></tr></table><br>\n",
      "<center><span class=\"yclinks\"><a href=\"newsguidelines.html\">Guidelines</a> | <a href=\"newsfaq.html\">FAQ</a> | <a href=\"lists\">Lists</a> | <a href=\"https://github.com/HackerNews/API\">API</a> | <a href=\"security.html\">Security</a> | <a href=\"https://www.ycombinator.com/legal/\">Legal</a> | <a href=\"https://www.ycombinator.com/apply/\">Apply to YC</a> | <a href=\"mailto:hn@ycombinator.com\">Contact</a></span><br><br>\n",
      "<form method=\"get\" action=\"//hn.algolia.com/\">Search: <input type=\"text\" name=\"q\" size=\"17\" autocorrect=\"off\" spellcheck=\"false\" autocapitalize=\"off\" autocomplete=\"false\"></form></center></td></tr>      </table></center></body>\n",
      "      <script type='text/javascript' src='hn.js?dg5T5Lpjq1j3MOOs9hSj'></script>\n",
      "  </html>\n",
      "\n"
     ]
    }
   ],
   "source": [
    "import requests\n",
    "\n",
    "# Fetch a web page\n",
    "r = requests.get(\"https://news.ycombinator.com\")\n",
    "print(r.text)"
   ]
  },
  {
   "cell_type": "code",
   "execution_count": 4,
   "metadata": {},
   "outputs": [
    {
     "name": "stdout",
     "output_type": "stream",
     "text": [
      "\n",
      "        \n",
      "          \n",
      "        Hacker News\n",
      "        \n",
      "                  Hacker News\n",
      "                            new | past | comments | ask | show | jobs | submit            \n",
      "                              login\n",
      "                          \n",
      "              \n",
      "\n",
      "            \n",
      "      1.      NYC Slice (elkue.com)\n",
      "          529 points by mbil 10 hours ago  | hide | 431&nbsp;comments        \n",
      "              \n",
      "      \n",
      "                \n",
      "      2.      A corrupt file led to the FAA ground stoppage – also found in backup system (cnn.com)\n",
      "          58 points by bluedino 2 hours ago  | hide | 27&nbsp;comments        \n",
      "              \n",
      "      \n",
      "                \n",
      "      3.      Tocharian Languages (wikipedia.org)\n",
      "          68 points by fer 4 hours ago  | hide | 5&nbsp;comments        \n",
      "              \n",
      "      \n",
      "                \n",
      "      4.      HoloKit relaunched, $129 AR Headset accessory for iPhone (holokit.io)\n",
      "          97 points by pdnell 6 hours ago  | hide | 97&nbsp;comments        \n",
      "              \n",
      "      \n",
      "                \n",
      "      5.      Ask HN: What&#x27;s your favorite illustration in computer science?\n",
      "          246 points by gnull 9 hours ago  | hide | 193&nbsp;comments        \n",
      "              \n",
      "      \n",
      "                \n",
      "      6.      Setting the TZ environment variable avoids thousands of system calls (2017) (packagecloud.io)\n",
      "          93 points by zdw 6 hours ago  | hide | 16&nbsp;comments        \n",
      "              \n",
      "      \n",
      "                \n",
      "      7.      Architecture diagrams should be code (brianmckenna.org)\n",
      "          183 points by todsacerdoti 8 hours ago  | hide | 106&nbsp;comments        \n",
      "              \n",
      "      \n",
      "                \n",
      "      8.      Conc: Better Structured Concurrency for Go (github.com/sourcegraph)\n",
      "          180 points by aurame420 8 hours ago  | hide | 87&nbsp;comments        \n",
      "              \n",
      "      \n",
      "                \n",
      "      9.      CTEs as lookup tables (misfra.me)\n",
      "          104 points by preetamjinka 6 hours ago  | hide | 66&nbsp;comments        \n",
      "              \n",
      "      \n",
      "                \n",
      "      10.      Show HN: Val Town – A Cloud Scripting Site (val.town)\n",
      "          229 points by stevekrouse 9 hours ago  | hide | 60&nbsp;comments        \n",
      "              \n",
      "      \n",
      "                \n",
      "      11.      Apple announces full Swift rewrite of the Foundation framework (2022) (infoq.com)\n",
      "          362 points by frizlab 14 hours ago  | hide | 238&nbsp;comments        \n",
      "              \n",
      "      \n",
      "                \n",
      "      12.      Show HN: Kandria, an action RPG made in Common Lisp, is now out (steampowered.com)\n",
      "          395 points by Shinmera 14 hours ago  | hide | 110&nbsp;comments        \n",
      "              \n",
      "      \n",
      "                \n",
      "      13.      Guerrilla guide to CNC machining, mold making, and resin casting (2015) (coredump.cx)\n",
      "          322 points by Tomte 13 hours ago  | hide | 131&nbsp;comments        \n",
      "              \n",
      "      \n",
      "                \n",
      "      14.      An online IDE for visual programming in Prolog (github.com/toblotron)\n",
      "          116 points by triska 8 hours ago  | hide | 12&nbsp;comments        \n",
      "              \n",
      "      \n",
      "                \n",
      "      15.      T95 Allwinner T616 Malware Analysis (github.com/desktopecho)\n",
      "          176 points by DesktopECHO 10 hours ago  | hide | 55&nbsp;comments        \n",
      "              \n",
      "      \n",
      "                \n",
      "      16.      &#x27;Oumuamua: An analysis of the debate regarding the first interstellar visitor (diva-portal.org)\n",
      "          118 points by Breadmaker 9 hours ago  | hide | 219&nbsp;comments        \n",
      "              \n",
      "      \n",
      "                \n",
      "      17.      The Style Guide for America’s Highways (beautifulpublicdata.com)\n",
      "          159 points by jonathanmkeegan 12 hours ago  | hide | 81&nbsp;comments        \n",
      "              \n",
      "      \n",
      "                \n",
      "      18.      Launch HN: IcePanel (YC W23) – Onboard engineers with explorable system designs\n",
      "          99 points by JacobShadbolt 11 hours ago  | hide | 68&nbsp;comments        \n",
      "              \n",
      "      \n",
      "                \n",
      "      19.      New video of Tesla crash demonstrates the problem of semi-automated driving (theautopian.com)\n",
      "          104 points by frxx 3 hours ago  | hide | 207&nbsp;comments        \n",
      "              \n",
      "      \n",
      "                \n",
      "      20.             Etleap (YC W13) is hiring a software engineer (London) (etleap.com)\n",
      "        7 hours ago | hide      \n",
      "      \n",
      "                \n",
      "      21.      Amazon loses bid to overturn historic union win on Staten Island warehouse (npr.org)\n",
      "          38 points by ceejayoz 1 hour ago  | hide | 3&nbsp;comments        \n",
      "              \n",
      "      \n",
      "                \n",
      "      22.      Show HN: Grila – Calendar for keyboard addicts, always one keypress away (lowtechguys.com)\n",
      "          61 points by alin23 6 hours ago  | hide | 14&nbsp;comments        \n",
      "              \n",
      "      \n",
      "                \n",
      "      23.      The Systematic Valley (philosophyinhell.substack.com)\n",
      "          8 points by exolymph 2 hours ago  | hide | discuss        \n",
      "              \n",
      "      \n",
      "                \n",
      "      24.      Flexport slashes 20% of global workforce over weak 2023 volume forecast (theloadstar.com)\n",
      "          168 points by drone 8 hours ago  | hide | 206&nbsp;comments        \n",
      "              \n",
      "      \n",
      "                \n",
      "      25.      Cantable Diffuguesion: Bach chorale generation and harmonization (replicate.com)\n",
      "          53 points by fagerhult 8 hours ago  | hide | 8&nbsp;comments        \n",
      "              \n",
      "      \n",
      "                \n",
      "      26.      RISC-V SBC VisionFive 2 Officially Shipped (starfivetech.com)\n",
      "          123 points by britneybitch 13 hours ago  | hide | 74&nbsp;comments        \n",
      "              \n",
      "      \n",
      "                \n",
      "      27.      Show HN: ToolJet 2.0 – Open-source alternative to Power Apps and Retool (github.com/tooljet)\n",
      "          173 points by navaneethpk 12 hours ago  | hide | 38&nbsp;comments        \n",
      "              \n",
      "      \n",
      "                \n",
      "      28.      The written world and the unwritten world (theparisreview.org)\n",
      "          11 points by Caiero 3 hours ago  | hide | 2&nbsp;comments        \n",
      "              \n",
      "      \n",
      "                \n",
      "      29.      How many AMD RX 7900 XTX&#x27;s are defective? (jeffgeerling.com)\n",
      "          133 points by ingve 7 hours ago  | hide | 98&nbsp;comments        \n",
      "              \n",
      "      \n",
      "                \n",
      "      30.      Market Annealing: Getting to $10M ARR in Early Markets (a16z.com)\n",
      "          82 points by yarapavan 9 hours ago  | hide | 4&nbsp;comments        \n",
      "              \n",
      "      \n",
      "            \n",
      "      More    \n",
      "  \n",
      "\n",
      "\n",
      "Guidelines | FAQ | Lists | API | Security | Legal | Apply to YC | Contact\n",
      "Search:       \n",
      "      \n",
      "  \n",
      "\n"
     ]
    }
   ],
   "source": [
    "import re\n",
    "\n",
    "# Remove HTML tags using RegEx\n",
    "pattern = re.compile(r'<.*?>')  # tags look like <...>\n",
    "print(pattern.sub('', r.text))  # replace them with blank"
   ]
  },
  {
   "cell_type": "code",
   "execution_count": 5,
   "metadata": {},
   "outputs": [
    {
     "name": "stdout",
     "output_type": "stream",
     "text": [
      "\n",
      "\n",
      "\n",
      "Hacker News\n",
      "\n",
      "Hacker News\n",
      "new | past | comments | ask | show | jobs | submit \n",
      "login\n",
      "\n",
      "\n",
      "\n",
      "\n",
      "1. NYC Slice (elkue.com)\n",
      "529 points by mbil 10 hours ago  | hide | 431 comments \n",
      "\n",
      "\n",
      "\n",
      "2. A corrupt file led to the FAA ground stoppage – also found in backup system (cnn.com)\n",
      "58 points by bluedino 2 hours ago  | hide | 27 comments \n",
      "\n",
      "\n",
      "\n",
      "3. Tocharian Languages (wikipedia.org)\n",
      "68 points by fer 4 hours ago  | hide | 5 comments \n",
      "\n",
      "\n",
      "\n",
      "4. HoloKit relaunched, $129 AR Headset accessory for iPhone (holokit.io)\n",
      "97 points by pdnell 6 hours ago  | hide | 97 comments \n",
      "\n",
      "\n",
      "\n",
      "5. Ask HN: What's your favorite illustration in computer science?\n",
      "246 points by gnull 9 hours ago  | hide | 193 comments \n",
      "\n",
      "\n",
      "\n",
      "6. Setting the TZ environment variable avoids thousands of system calls (2017) (packagecloud.io)\n",
      "93 points by zdw 6 hours ago  | hide | 16 comments \n",
      "\n",
      "\n",
      "\n",
      "7. Architecture diagrams should be code (brianmckenna.org)\n",
      "183 points by todsacerdoti 8 hours ago  | hide | 106 comments \n",
      "\n",
      "\n",
      "\n",
      "8. Conc: Better Structured Concurrency for Go (github.com/sourcegraph)\n",
      "180 points by aurame420 8 hours ago  | hide | 87 comments \n",
      "\n",
      "\n",
      "\n",
      "9. CTEs as lookup tables (misfra.me)\n",
      "104 points by preetamjinka 6 hours ago  | hide | 66 comments \n",
      "\n",
      "\n",
      "\n",
      "10. Show HN: Val Town – A Cloud Scripting Site (val.town)\n",
      "229 points by stevekrouse 9 hours ago  | hide | 60 comments \n",
      "\n",
      "\n",
      "\n",
      "11. Apple announces full Swift rewrite of the Foundation framework (2022) (infoq.com)\n",
      "362 points by frizlab 14 hours ago  | hide | 238 comments \n",
      "\n",
      "\n",
      "\n",
      "12. Show HN: Kandria, an action RPG made in Common Lisp, is now out (steampowered.com)\n",
      "395 points by Shinmera 14 hours ago  | hide | 110 comments \n",
      "\n",
      "\n",
      "\n",
      "13. Guerrilla guide to CNC machining, mold making, and resin casting (2015) (coredump.cx)\n",
      "322 points by Tomte 13 hours ago  | hide | 131 comments \n",
      "\n",
      "\n",
      "\n",
      "14. An online IDE for visual programming in Prolog (github.com/toblotron)\n",
      "116 points by triska 8 hours ago  | hide | 12 comments \n",
      "\n",
      "\n",
      "\n",
      "15. T95 Allwinner T616 Malware Analysis (github.com/desktopecho)\n",
      "176 points by DesktopECHO 10 hours ago  | hide | 55 comments \n",
      "\n",
      "\n",
      "\n",
      "16. 'Oumuamua: An analysis of the debate regarding the first interstellar visitor (diva-portal.org)\n",
      "118 points by Breadmaker 9 hours ago  | hide | 219 comments \n",
      "\n",
      "\n",
      "\n",
      "17. The Style Guide for America’s Highways (beautifulpublicdata.com)\n",
      "159 points by jonathanmkeegan 12 hours ago  | hide | 81 comments \n",
      "\n",
      "\n",
      "\n",
      "18. Launch HN: IcePanel (YC W23) – Onboard engineers with explorable system designs\n",
      "99 points by JacobShadbolt 11 hours ago  | hide | 68 comments \n",
      "\n",
      "\n",
      "\n",
      "19. New video of Tesla crash demonstrates the problem of semi-automated driving (theautopian.com)\n",
      "104 points by frxx 3 hours ago  | hide | 207 comments \n",
      "\n",
      "\n",
      "\n",
      "20.  Etleap (YC W13) is hiring a software engineer (London) (etleap.com)\n",
      "7 hours ago | hide \n",
      "\n",
      "\n",
      "21. Amazon loses bid to overturn historic union win on Staten Island warehouse (npr.org)\n",
      "38 points by ceejayoz 1 hour ago  | hide | 3 comments \n",
      "\n",
      "\n",
      "\n",
      "22. Show HN: Grila – Calendar for keyboard addicts, always one keypress away (lowtechguys.com)\n",
      "61 points by alin23 6 hours ago  | hide | 14 comments \n",
      "\n",
      "\n",
      "\n",
      "23. The Systematic Valley (philosophyinhell.substack.com)\n",
      "8 points by exolymph 2 hours ago  | hide | discuss \n",
      "\n",
      "\n",
      "\n",
      "24. Flexport slashes 20% of global workforce over weak 2023 volume forecast (theloadstar.com)\n",
      "168 points by drone 8 hours ago  | hide | 206 comments \n",
      "\n",
      "\n",
      "\n",
      "25. Cantable Diffuguesion: Bach chorale generation and harmonization (replicate.com)\n",
      "53 points by fagerhult 8 hours ago  | hide | 8 comments \n",
      "\n",
      "\n",
      "\n",
      "26. RISC-V SBC VisionFive 2 Officially Shipped (starfivetech.com)\n",
      "123 points by britneybitch 13 hours ago  | hide | 74 comments \n",
      "\n",
      "\n",
      "\n",
      "27. Show HN: ToolJet 2.0 – Open-source alternative to Power Apps and Retool (github.com/tooljet)\n",
      "173 points by navaneethpk 12 hours ago  | hide | 38 comments \n",
      "\n",
      "\n",
      "\n",
      "28. The written world and the unwritten world (theparisreview.org)\n",
      "11 points by Caiero 3 hours ago  | hide | 2 comments \n",
      "\n",
      "\n",
      "\n",
      "29. How many AMD RX 7900 XTX's are defective? (jeffgeerling.com)\n",
      "133 points by ingve 7 hours ago  | hide | 98 comments \n",
      "\n",
      "\n",
      "\n",
      "30. Market Annealing: Getting to $10M ARR in Early Markets (a16z.com)\n",
      "82 points by yarapavan 9 hours ago  | hide | 4 comments \n",
      "\n",
      "\n",
      "\n",
      "More \n",
      "\n",
      "\n",
      "\n",
      "Guidelines | FAQ | Lists | API | Security | Legal | Apply to YC | Contact\n",
      "Search:  \n",
      "\n",
      "\n",
      "\n"
     ]
    }
   ],
   "source": [
    "from bs4 import BeautifulSoup\n",
    "\n",
    "# Remove HTML tags using Beautiful Soup library\n",
    "soup = BeautifulSoup(r.text, \"html\")\n",
    "print(soup.get_text())"
   ]
  },
  {
   "cell_type": "code",
   "execution_count": 6,
   "metadata": {
    "scrolled": true
   },
   "outputs": [
    {
     "data": {
      "text/plain": [
       "<tr class=\"athing\" id=\"34342871\">\n",
       "<td align=\"right\" class=\"title\" valign=\"top\"><span class=\"rank\">1.</span></td> <td class=\"votelinks\" valign=\"top\"><center><a href=\"vote?id=34342871&amp;how=up&amp;goto=news\" id=\"up_34342871\"><div class=\"votearrow\" title=\"upvote\"></div></a></center></td><td class=\"title\"><span class=\"titleline\"><a href=\"https://elkue.com/nyc-slice/\">NYC Slice</a><span class=\"sitebit comhead\"> (<a href=\"from?site=elkue.com\"><span class=\"sitestr\">elkue.com</span></a>)</span></span></td></tr>"
      ]
     },
     "execution_count": 6,
     "metadata": {},
     "output_type": "execute_result"
    }
   ],
   "source": [
    "# Find all articles\n",
    "summaries = soup.find_all(\"tr\", class_=\"athing\")\n",
    "summaries[0]"
   ]
  },
  {
   "cell_type": "code",
   "execution_count": 7,
   "metadata": {},
   "outputs": [],
   "source": [
    "# Extract title\n",
    "summaries[0].find(\"a\", class_=\"storylink\")"
   ]
  },
  {
   "cell_type": "code",
   "execution_count": 30,
   "metadata": {},
   "outputs": [
    {
     "name": "stdout",
     "output_type": "stream",
     "text": [
      "30 Article summaries found. Sample:\n",
      "None\n"
     ]
    }
   ],
   "source": [
    "# Find all articles, extract titles\n",
    "articles = []\n",
    "summaries = soup.find_all(\"tr\", class_=\"athing\")\n",
    "for summary in summaries:\n",
    "    title = summary.find(\"a\", class_=\"storylink\")\n",
    "    articles.append((title))\n",
    "\n",
    "print(len(articles), \"Article summaries found. Sample:\")\n",
    "print(articles[0])"
   ]
  },
  {
   "cell_type": "markdown",
   "metadata": {
    "collapsed": true
   },
   "source": [
    "## Normalization"
   ]
  },
  {
   "cell_type": "markdown",
   "metadata": {},
   "source": [
    "### Case Normalization"
   ]
  },
  {
   "cell_type": "code",
   "execution_count": 31,
   "metadata": {},
   "outputs": [
    {
     "name": "stdout",
     "output_type": "stream",
     "text": [
      "The first time you see The Second Renaissance it may look boring. Look at it at least twice and definitely watch part 2. It will change your view of the matrix. Are the human people the ones who started the war ? Is AI a bad thing ?\n"
     ]
    }
   ],
   "source": [
    "# Sample text\n",
    "text = \"The first time you see The Second Renaissance it may look boring. Look at it at least twice and definitely watch part 2. It will change your view of the matrix. Are the human people the ones who started the war ? Is AI a bad thing ?\"\n",
    "print(text)"
   ]
  },
  {
   "cell_type": "code",
   "execution_count": 32,
   "metadata": {},
   "outputs": [
    {
     "name": "stdout",
     "output_type": "stream",
     "text": [
      "the first time you see the second renaissance it may look boring. look at it at least twice and definitely watch part 2. it will change your view of the matrix. are the human people the ones who started the war ? is ai a bad thing ?\n"
     ]
    }
   ],
   "source": [
    "# Convert to lowercase\n",
    "text = text.lower() \n",
    "print(text)"
   ]
  },
  {
   "cell_type": "markdown",
   "metadata": {},
   "source": [
    "### Punctuation Removal"
   ]
  },
  {
   "cell_type": "code",
   "execution_count": 33,
   "metadata": {},
   "outputs": [
    {
     "name": "stdout",
     "output_type": "stream",
     "text": [
      "the first time you see the second renaissance it may look boring  look at it at least twice and definitely watch part 2  it will change your view of the matrix  are the human people the ones who started the war   is ai a bad thing  \n"
     ]
    }
   ],
   "source": [
    "import re\n",
    "\n",
    "# Remove punctuation characters\n",
    "text = re.sub(r\"[^a-zA-Z0-9]\", \" \", text) \n",
    "print(text)"
   ]
  },
  {
   "cell_type": "markdown",
   "metadata": {},
   "source": [
    "## Tokenization"
   ]
  },
  {
   "cell_type": "code",
   "execution_count": 34,
   "metadata": {},
   "outputs": [
    {
     "name": "stdout",
     "output_type": "stream",
     "text": [
      "['the', 'first', 'time', 'you', 'see', 'the', 'second', 'renaissance', 'it', 'may', 'look', 'boring', 'look', 'at', 'it', 'at', 'least', 'twice', 'and', 'definitely', 'watch', 'part', '2', 'it', 'will', 'change', 'your', 'view', 'of', 'the', 'matrix', 'are', 'the', 'human', 'people', 'the', 'ones', 'who', 'started', 'the', 'war', 'is', 'ai', 'a', 'bad', 'thing']\n"
     ]
    }
   ],
   "source": [
    "# Split text into tokens (words)\n",
    "words = text.split()\n",
    "print(words)"
   ]
  },
  {
   "cell_type": "markdown",
   "metadata": {},
   "source": [
    "### NLTK: Natural Language ToolKit"
   ]
  },
  {
   "cell_type": "code",
   "execution_count": 35,
   "metadata": {},
   "outputs": [],
   "source": [
    "import os\n",
    "import nltk\n",
    "nltk.data.path.append(os.path.join(os.getcwd(), \"nltk_data\"))"
   ]
  },
  {
   "cell_type": "code",
   "execution_count": 36,
   "metadata": {},
   "outputs": [
    {
     "name": "stdout",
     "output_type": "stream",
     "text": [
      "Dr. Smith graduated from the University of Washington. He later started an analytics firm called Lux, which catered to enterprise customers.\n"
     ]
    }
   ],
   "source": [
    "# Another sample text\n",
    "text = \"Dr. Smith graduated from the University of Washington. He later started an analytics firm called Lux, which catered to enterprise customers.\"\n",
    "print(text)"
   ]
  },
  {
   "cell_type": "code",
   "execution_count": 37,
   "metadata": {},
   "outputs": [
    {
     "name": "stdout",
     "output_type": "stream",
     "text": [
      "['Dr.', 'Smith', 'graduated', 'from', 'the', 'University', 'of', 'Washington', '.', 'He', 'later', 'started', 'an', 'analytics', 'firm', 'called', 'Lux', ',', 'which', 'catered', 'to', 'enterprise', 'customers', '.']\n"
     ]
    }
   ],
   "source": [
    "from nltk.tokenize import word_tokenize\n",
    "\n",
    "# Split text into words using NLTK\n",
    "words = word_tokenize(text)\n",
    "print(words)"
   ]
  },
  {
   "cell_type": "code",
   "execution_count": 38,
   "metadata": {},
   "outputs": [
    {
     "name": "stdout",
     "output_type": "stream",
     "text": [
      "['Dr. Smith graduated from the University of Washington.', 'He later started an analytics firm called Lux, which catered to enterprise customers.']\n"
     ]
    }
   ],
   "source": [
    "from nltk.tokenize import sent_tokenize\n",
    "\n",
    "# Split text into sentences\n",
    "sentences = sent_tokenize(text)\n",
    "print(sentences)"
   ]
  },
  {
   "cell_type": "code",
   "execution_count": 39,
   "metadata": {},
   "outputs": [
    {
     "name": "stdout",
     "output_type": "stream",
     "text": [
      "['i', 'me', 'my', 'myself', 'we', 'our', 'ours', 'ourselves', 'you', \"you're\", \"you've\", \"you'll\", \"you'd\", 'your', 'yours', 'yourself', 'yourselves', 'he', 'him', 'his', 'himself', 'she', \"she's\", 'her', 'hers', 'herself', 'it', \"it's\", 'its', 'itself', 'they', 'them', 'their', 'theirs', 'themselves', 'what', 'which', 'who', 'whom', 'this', 'that', \"that'll\", 'these', 'those', 'am', 'is', 'are', 'was', 'were', 'be', 'been', 'being', 'have', 'has', 'had', 'having', 'do', 'does', 'did', 'doing', 'a', 'an', 'the', 'and', 'but', 'if', 'or', 'because', 'as', 'until', 'while', 'of', 'at', 'by', 'for', 'with', 'about', 'against', 'between', 'into', 'through', 'during', 'before', 'after', 'above', 'below', 'to', 'from', 'up', 'down', 'in', 'out', 'on', 'off', 'over', 'under', 'again', 'further', 'then', 'once', 'here', 'there', 'when', 'where', 'why', 'how', 'all', 'any', 'both', 'each', 'few', 'more', 'most', 'other', 'some', 'such', 'no', 'nor', 'not', 'only', 'own', 'same', 'so', 'than', 'too', 'very', 's', 't', 'can', 'will', 'just', 'don', \"don't\", 'should', \"should've\", 'now', 'd', 'll', 'm', 'o', 're', 've', 'y', 'ain', 'aren', \"aren't\", 'couldn', \"couldn't\", 'didn', \"didn't\", 'doesn', \"doesn't\", 'hadn', \"hadn't\", 'hasn', \"hasn't\", 'haven', \"haven't\", 'isn', \"isn't\", 'ma', 'mightn', \"mightn't\", 'mustn', \"mustn't\", 'needn', \"needn't\", 'shan', \"shan't\", 'shouldn', \"shouldn't\", 'wasn', \"wasn't\", 'weren', \"weren't\", 'won', \"won't\", 'wouldn', \"wouldn't\"]\n"
     ]
    }
   ],
   "source": [
    "# List stop words\n",
    "from nltk.corpus import stopwords\n",
    "print(stopwords.words(\"english\"))"
   ]
  },
  {
   "cell_type": "code",
   "execution_count": 40,
   "metadata": {},
   "outputs": [
    {
     "name": "stdout",
     "output_type": "stream",
     "text": [
      "['the', 'first', 'time', 'you', 'see', 'the', 'second', 'renaissance', 'it', 'may', 'look', 'boring', 'look', 'at', 'it', 'at', 'least', 'twice', 'and', 'definitely', 'watch', 'part', '2', 'it', 'will', 'change', 'your', 'view', 'of', 'the', 'matrix', 'are', 'the', 'human', 'people', 'the', 'ones', 'who', 'started', 'the', 'war', 'is', 'ai', 'a', 'bad', 'thing']\n"
     ]
    }
   ],
   "source": [
    "# Reset text\n",
    "text = \"The first time you see The Second Renaissance it may look boring. Look at it at least twice and definitely watch part 2. It will change your view of the matrix. Are the human people the ones who started the war ? Is AI a bad thing ?\"\n",
    "\n",
    "# Normalize it (take out punctuations and transform to lowecase)\n",
    "text = re.sub(r\"[^a-zA-Z0-9]\", \" \", text.lower())\n",
    "\n",
    "# Tokenize it\n",
    "words = text.split()\n",
    "print(words)"
   ]
  },
  {
   "cell_type": "code",
   "execution_count": 41,
   "metadata": {},
   "outputs": [
    {
     "name": "stdout",
     "output_type": "stream",
     "text": [
      "['first', 'time', 'see', 'second', 'renaissance', 'may', 'look', 'boring', 'look', 'least', 'twice', 'definitely', 'watch', 'part', '2', 'change', 'view', 'matrix', 'human', 'people', 'ones', 'started', 'war', 'ai', 'bad', 'thing']\n"
     ]
    }
   ],
   "source": [
    "# Remove stop words\n",
    "words = [w for w in words if w not in stopwords.words(\"english\")]\n",
    "print(words)"
   ]
  },
  {
   "cell_type": "markdown",
   "metadata": {},
   "source": [
    "### Sentence Parsing"
   ]
  },
  {
   "cell_type": "code",
   "execution_count": 42,
   "metadata": {},
   "outputs": [
    {
     "name": "stdout",
     "output_type": "stream",
     "text": [
      "(S\n",
      "  (NP I)\n",
      "  (VP\n",
      "    (VP (V shot) (NP (Det an) (N elephant)))\n",
      "    (PP (P in) (NP (Det my) (N pajamas)))))\n",
      "(S\n",
      "  (NP I)\n",
      "  (VP\n",
      "    (V shot)\n",
      "    (NP (Det an) (N elephant) (PP (P in) (NP (Det my) (N pajamas))))))\n"
     ]
    }
   ],
   "source": [
    "import nltk\n",
    "\n",
    "# Define a custom grammar\n",
    "my_grammar = nltk.CFG.fromstring(\"\"\"\n",
    "S -> NP VP\n",
    "PP -> P NP\n",
    "NP -> Det N | Det N PP | 'I'\n",
    "VP -> V NP | VP PP\n",
    "Det -> 'an' | 'my'\n",
    "N -> 'elephant' | 'pajamas'\n",
    "V -> 'shot'\n",
    "P -> 'in'\n",
    "\"\"\")\n",
    "parser = nltk.ChartParser(my_grammar)\n",
    "\n",
    "# Parse a sentence\n",
    "sentence = word_tokenize(\"I shot an elephant in my pajamas\")\n",
    "for tree in parser.parse(sentence):\n",
    "    print(tree)"
   ]
  },
  {
   "cell_type": "markdown",
   "metadata": {},
   "source": [
    "## Stemming & Lemmatization\n",
    "\n",
    "### Stemming"
   ]
  },
  {
   "cell_type": "code",
   "execution_count": 43,
   "metadata": {},
   "outputs": [
    {
     "name": "stdout",
     "output_type": "stream",
     "text": [
      "['first', 'time', 'see', 'second', 'renaiss', 'may', 'look', 'bore', 'look', 'least', 'twice', 'definit', 'watch', 'part', '2', 'chang', 'view', 'matrix', 'human', 'peopl', 'one', 'start', 'war', 'ai', 'bad', 'thing']\n"
     ]
    }
   ],
   "source": [
    "from nltk.stem.porter import PorterStemmer\n",
    "\n",
    "# Reduce words to their stems\n",
    "stemmed = [PorterStemmer().stem(w) for w in words]\n",
    "print(stemmed)"
   ]
  },
  {
   "cell_type": "markdown",
   "metadata": {},
   "source": [
    "### Lemmatization"
   ]
  },
  {
   "cell_type": "code",
   "execution_count": 44,
   "metadata": {},
   "outputs": [
    {
     "name": "stdout",
     "output_type": "stream",
     "text": [
      "['first', 'time', 'see', 'second', 'renaissance', 'may', 'look', 'boring', 'look', 'least', 'twice', 'definitely', 'watch', 'part', '2', 'change', 'view', 'matrix', 'human', 'people', 'one', 'started', 'war', 'ai', 'bad', 'thing']\n"
     ]
    }
   ],
   "source": [
    "from nltk.stem.wordnet import WordNetLemmatizer\n",
    "\n",
    "# Reduce words to their root form\n",
    "lemmed = [WordNetLemmatizer().lemmatize(w) for w in words]\n",
    "print(lemmed)"
   ]
  },
  {
   "cell_type": "code",
   "execution_count": 45,
   "metadata": {},
   "outputs": [
    {
     "name": "stdout",
     "output_type": "stream",
     "text": [
      "['first', 'time', 'see', 'second', 'renaissance', 'may', 'look', 'bore', 'look', 'least', 'twice', 'definitely', 'watch', 'part', '2', 'change', 'view', 'matrix', 'human', 'people', 'one', 'start', 'war', 'ai', 'bad', 'thing']\n"
     ]
    }
   ],
   "source": [
    "# Lemmatize verbs by specifying pos\n",
    "lemmed = [WordNetLemmatizer().lemmatize(w, pos='v') for w in lemmed]\n",
    "print(lemmed)"
   ]
  },
  {
   "cell_type": "code",
   "execution_count": null,
   "metadata": {},
   "outputs": [],
   "source": []
  }
 ],
 "metadata": {
  "kernelspec": {
   "display_name": "base",
   "language": "python",
   "name": "python3"
  },
  "language_info": {
   "codemirror_mode": {
    "name": "ipython",
    "version": 3
   },
   "file_extension": ".py",
   "mimetype": "text/x-python",
   "name": "python",
   "nbconvert_exporter": "python",
   "pygments_lexer": "ipython3",
   "version": "3.9.15 (main, Nov  4 2022, 11:11:31) \n[Clang 12.0.0 ]"
  },
  "vscode": {
   "interpreter": {
    "hash": "a9aad446ee9dc85e729812198b840c2bf0d9237c15741169a61207b4c8f976fa"
   }
  }
 },
 "nbformat": 4,
 "nbformat_minor": 2
}
